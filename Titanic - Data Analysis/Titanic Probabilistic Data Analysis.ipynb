{
 "cells": [
  {
   "cell_type": "code",
   "execution_count": 1,
   "metadata": {},
   "outputs": [],
   "source": [
    "import seaborn as sns\n",
    "import matplotlib.pyplot as plt\n",
    "\n",
    "%matplotlib inline"
   ]
  },
  {
   "cell_type": "code",
   "execution_count": 2,
   "metadata": {},
   "outputs": [
    {
     "name": "stdout",
     "output_type": "stream",
     "text": [
      "There is 891 rows and 15 columns\n"
     ]
    },
    {
     "data": {
      "text/html": [
       "<div>\n",
       "<style scoped>\n",
       "    .dataframe tbody tr th:only-of-type {\n",
       "        vertical-align: middle;\n",
       "    }\n",
       "\n",
       "    .dataframe tbody tr th {\n",
       "        vertical-align: top;\n",
       "    }\n",
       "\n",
       "    .dataframe thead th {\n",
       "        text-align: right;\n",
       "    }\n",
       "</style>\n",
       "<table border=\"1\" class=\"dataframe\">\n",
       "  <thead>\n",
       "    <tr style=\"text-align: right;\">\n",
       "      <th></th>\n",
       "      <th>survived</th>\n",
       "      <th>pclass</th>\n",
       "      <th>sex</th>\n",
       "      <th>age</th>\n",
       "      <th>sibsp</th>\n",
       "      <th>parch</th>\n",
       "      <th>fare</th>\n",
       "      <th>embarked</th>\n",
       "      <th>class</th>\n",
       "      <th>who</th>\n",
       "      <th>adult_male</th>\n",
       "      <th>deck</th>\n",
       "      <th>embark_town</th>\n",
       "      <th>alive</th>\n",
       "      <th>alone</th>\n",
       "    </tr>\n",
       "  </thead>\n",
       "  <tbody>\n",
       "    <tr>\n",
       "      <th>0</th>\n",
       "      <td>0</td>\n",
       "      <td>3</td>\n",
       "      <td>male</td>\n",
       "      <td>22.0</td>\n",
       "      <td>1</td>\n",
       "      <td>0</td>\n",
       "      <td>7.2500</td>\n",
       "      <td>S</td>\n",
       "      <td>Third</td>\n",
       "      <td>man</td>\n",
       "      <td>True</td>\n",
       "      <td>NaN</td>\n",
       "      <td>Southampton</td>\n",
       "      <td>no</td>\n",
       "      <td>False</td>\n",
       "    </tr>\n",
       "    <tr>\n",
       "      <th>1</th>\n",
       "      <td>1</td>\n",
       "      <td>1</td>\n",
       "      <td>female</td>\n",
       "      <td>38.0</td>\n",
       "      <td>1</td>\n",
       "      <td>0</td>\n",
       "      <td>71.2833</td>\n",
       "      <td>C</td>\n",
       "      <td>First</td>\n",
       "      <td>woman</td>\n",
       "      <td>False</td>\n",
       "      <td>C</td>\n",
       "      <td>Cherbourg</td>\n",
       "      <td>yes</td>\n",
       "      <td>False</td>\n",
       "    </tr>\n",
       "    <tr>\n",
       "      <th>2</th>\n",
       "      <td>1</td>\n",
       "      <td>3</td>\n",
       "      <td>female</td>\n",
       "      <td>26.0</td>\n",
       "      <td>0</td>\n",
       "      <td>0</td>\n",
       "      <td>7.9250</td>\n",
       "      <td>S</td>\n",
       "      <td>Third</td>\n",
       "      <td>woman</td>\n",
       "      <td>False</td>\n",
       "      <td>NaN</td>\n",
       "      <td>Southampton</td>\n",
       "      <td>yes</td>\n",
       "      <td>True</td>\n",
       "    </tr>\n",
       "    <tr>\n",
       "      <th>3</th>\n",
       "      <td>1</td>\n",
       "      <td>1</td>\n",
       "      <td>female</td>\n",
       "      <td>35.0</td>\n",
       "      <td>1</td>\n",
       "      <td>0</td>\n",
       "      <td>53.1000</td>\n",
       "      <td>S</td>\n",
       "      <td>First</td>\n",
       "      <td>woman</td>\n",
       "      <td>False</td>\n",
       "      <td>C</td>\n",
       "      <td>Southampton</td>\n",
       "      <td>yes</td>\n",
       "      <td>False</td>\n",
       "    </tr>\n",
       "    <tr>\n",
       "      <th>4</th>\n",
       "      <td>0</td>\n",
       "      <td>3</td>\n",
       "      <td>male</td>\n",
       "      <td>35.0</td>\n",
       "      <td>0</td>\n",
       "      <td>0</td>\n",
       "      <td>8.0500</td>\n",
       "      <td>S</td>\n",
       "      <td>Third</td>\n",
       "      <td>man</td>\n",
       "      <td>True</td>\n",
       "      <td>NaN</td>\n",
       "      <td>Southampton</td>\n",
       "      <td>no</td>\n",
       "      <td>True</td>\n",
       "    </tr>\n",
       "  </tbody>\n",
       "</table>\n",
       "</div>"
      ],
      "text/plain": [
       "   survived  pclass     sex   age  sibsp  parch     fare embarked  class  \\\n",
       "0         0       3    male  22.0      1      0   7.2500        S  Third   \n",
       "1         1       1  female  38.0      1      0  71.2833        C  First   \n",
       "2         1       3  female  26.0      0      0   7.9250        S  Third   \n",
       "3         1       1  female  35.0      1      0  53.1000        S  First   \n",
       "4         0       3    male  35.0      0      0   8.0500        S  Third   \n",
       "\n",
       "     who  adult_male deck  embark_town alive  alone  \n",
       "0    man        True  NaN  Southampton    no  False  \n",
       "1  woman       False    C    Cherbourg   yes  False  \n",
       "2  woman       False  NaN  Southampton   yes   True  \n",
       "3  woman       False    C  Southampton   yes  False  \n",
       "4    man        True  NaN  Southampton    no   True  "
      ]
     },
     "execution_count": 2,
     "metadata": {},
     "output_type": "execute_result"
    }
   ],
   "source": [
    "df = sns.load_dataset(\"titanic\")\n",
    "print('There is {} rows and {} columns'.format(df.shape[0],df.shape[1]))\n",
    "df.head()"
   ]
  },
  {
   "cell_type": "code",
   "execution_count": 3,
   "metadata": {},
   "outputs": [],
   "source": [
    "drop = ['pclass', 'embarked', 'alone']\n",
    "df.drop(drop,axis=1,inplace=True)"
   ]
  },
  {
   "cell_type": "code",
   "execution_count": 4,
   "metadata": {},
   "outputs": [
    {
     "name": "stdout",
     "output_type": "stream",
     "text": [
      "<class 'pandas.core.frame.DataFrame'>\n",
      "RangeIndex: 891 entries, 0 to 890\n",
      "Data columns (total 12 columns):\n",
      " #   Column       Non-Null Count  Dtype   \n",
      "---  ------       --------------  -----   \n",
      " 0   survived     891 non-null    int64   \n",
      " 1   sex          891 non-null    object  \n",
      " 2   age          714 non-null    float64 \n",
      " 3   sibsp        891 non-null    int64   \n",
      " 4   parch        891 non-null    int64   \n",
      " 5   fare         891 non-null    float64 \n",
      " 6   class        891 non-null    category\n",
      " 7   who          891 non-null    object  \n",
      " 8   adult_male   891 non-null    bool    \n",
      " 9   deck         203 non-null    category\n",
      " 10  embark_town  889 non-null    object  \n",
      " 11  alive        891 non-null    object  \n",
      "dtypes: bool(1), category(2), float64(2), int64(3), object(4)\n",
      "memory usage: 65.9+ KB\n"
     ]
    }
   ],
   "source": [
    "df.info()"
   ]
  },
  {
   "cell_type": "code",
   "execution_count": 5,
   "metadata": {},
   "outputs": [],
   "source": [
    "df['deck'] = df['deck'].astype('O')\n",
    "df['class'] = df['class'].astype('O')"
   ]
  },
  {
   "cell_type": "code",
   "execution_count": 6,
   "metadata": {},
   "outputs": [
    {
     "data": {
      "text/plain": [
       "survived       0.000000\n",
       "sex            0.000000\n",
       "age            0.198653\n",
       "sibsp          0.000000\n",
       "parch          0.000000\n",
       "fare           0.000000\n",
       "class          0.000000\n",
       "who            0.000000\n",
       "adult_male     0.000000\n",
       "deck           0.772166\n",
       "embark_town    0.002245\n",
       "alive          0.000000\n",
       "dtype: float64"
      ]
     },
     "execution_count": 6,
     "metadata": {},
     "output_type": "execute_result"
    }
   ],
   "source": [
    "## Null Value Check\n",
    "total = df.isnull().mean()\n",
    "total"
   ]
  },
  {
   "cell_type": "markdown",
   "metadata": {},
   "source": [
    "## Missing Value Imputation"
   ]
  },
  {
   "cell_type": "code",
   "execution_count": 7,
   "metadata": {},
   "outputs": [],
   "source": [
    "values = {'age': df['age'].median()}\n",
    "df = df.fillna(value=values)"
   ]
  },
  {
   "cell_type": "code",
   "execution_count": 8,
   "metadata": {},
   "outputs": [],
   "source": [
    "df['deck'].fillna('missing', inplace=True)"
   ]
  },
  {
   "cell_type": "code",
   "execution_count": 9,
   "metadata": {},
   "outputs": [],
   "source": [
    "df['embark_town'].fillna('missing', inplace=True)"
   ]
  },
  {
   "cell_type": "code",
   "execution_count": 10,
   "metadata": {},
   "outputs": [
    {
     "data": {
      "text/plain": [
       "survived       0.0\n",
       "sex            0.0\n",
       "age            0.0\n",
       "sibsp          0.0\n",
       "parch          0.0\n",
       "fare           0.0\n",
       "class          0.0\n",
       "who            0.0\n",
       "adult_male     0.0\n",
       "deck           0.0\n",
       "embark_town    0.0\n",
       "alive          0.0\n",
       "dtype: float64"
      ]
     },
     "execution_count": 10,
     "metadata": {},
     "output_type": "execute_result"
    }
   ],
   "source": [
    "## Null Value Check\n",
    "total = df.isnull().mean()\n",
    "total"
   ]
  },
  {
   "cell_type": "code",
   "execution_count": 11,
   "metadata": {},
   "outputs": [
    {
     "data": {
      "text/html": [
       "<div>\n",
       "<style scoped>\n",
       "    .dataframe tbody tr th:only-of-type {\n",
       "        vertical-align: middle;\n",
       "    }\n",
       "\n",
       "    .dataframe tbody tr th {\n",
       "        vertical-align: top;\n",
       "    }\n",
       "\n",
       "    .dataframe thead th {\n",
       "        text-align: right;\n",
       "    }\n",
       "</style>\n",
       "<table border=\"1\" class=\"dataframe\">\n",
       "  <thead>\n",
       "    <tr style=\"text-align: right;\">\n",
       "      <th></th>\n",
       "      <th>survived</th>\n",
       "      <th>sex</th>\n",
       "      <th>age</th>\n",
       "      <th>sibsp</th>\n",
       "      <th>parch</th>\n",
       "      <th>fare</th>\n",
       "      <th>class</th>\n",
       "      <th>who</th>\n",
       "      <th>adult_male</th>\n",
       "      <th>deck</th>\n",
       "      <th>embark_town</th>\n",
       "      <th>alive</th>\n",
       "    </tr>\n",
       "  </thead>\n",
       "  <tbody>\n",
       "    <tr>\n",
       "      <th>0</th>\n",
       "      <td>0</td>\n",
       "      <td>male</td>\n",
       "      <td>22.0</td>\n",
       "      <td>1</td>\n",
       "      <td>0</td>\n",
       "      <td>7.2500</td>\n",
       "      <td>Third</td>\n",
       "      <td>man</td>\n",
       "      <td>True</td>\n",
       "      <td>missing</td>\n",
       "      <td>Southampton</td>\n",
       "      <td>no</td>\n",
       "    </tr>\n",
       "    <tr>\n",
       "      <th>1</th>\n",
       "      <td>1</td>\n",
       "      <td>female</td>\n",
       "      <td>38.0</td>\n",
       "      <td>1</td>\n",
       "      <td>0</td>\n",
       "      <td>71.2833</td>\n",
       "      <td>First</td>\n",
       "      <td>woman</td>\n",
       "      <td>False</td>\n",
       "      <td>C</td>\n",
       "      <td>Cherbourg</td>\n",
       "      <td>yes</td>\n",
       "    </tr>\n",
       "    <tr>\n",
       "      <th>2</th>\n",
       "      <td>1</td>\n",
       "      <td>female</td>\n",
       "      <td>26.0</td>\n",
       "      <td>0</td>\n",
       "      <td>0</td>\n",
       "      <td>7.9250</td>\n",
       "      <td>Third</td>\n",
       "      <td>woman</td>\n",
       "      <td>False</td>\n",
       "      <td>missing</td>\n",
       "      <td>Southampton</td>\n",
       "      <td>yes</td>\n",
       "    </tr>\n",
       "    <tr>\n",
       "      <th>3</th>\n",
       "      <td>1</td>\n",
       "      <td>female</td>\n",
       "      <td>35.0</td>\n",
       "      <td>1</td>\n",
       "      <td>0</td>\n",
       "      <td>53.1000</td>\n",
       "      <td>First</td>\n",
       "      <td>woman</td>\n",
       "      <td>False</td>\n",
       "      <td>C</td>\n",
       "      <td>Southampton</td>\n",
       "      <td>yes</td>\n",
       "    </tr>\n",
       "    <tr>\n",
       "      <th>4</th>\n",
       "      <td>0</td>\n",
       "      <td>male</td>\n",
       "      <td>35.0</td>\n",
       "      <td>0</td>\n",
       "      <td>0</td>\n",
       "      <td>8.0500</td>\n",
       "      <td>Third</td>\n",
       "      <td>man</td>\n",
       "      <td>True</td>\n",
       "      <td>missing</td>\n",
       "      <td>Southampton</td>\n",
       "      <td>no</td>\n",
       "    </tr>\n",
       "  </tbody>\n",
       "</table>\n",
       "</div>"
      ],
      "text/plain": [
       "   survived     sex   age  sibsp  parch     fare  class    who  adult_male  \\\n",
       "0         0    male  22.0      1      0   7.2500  Third    man        True   \n",
       "1         1  female  38.0      1      0  71.2833  First  woman       False   \n",
       "2         1  female  26.0      0      0   7.9250  Third  woman       False   \n",
       "3         1  female  35.0      1      0  53.1000  First  woman       False   \n",
       "4         0    male  35.0      0      0   8.0500  Third    man        True   \n",
       "\n",
       "      deck  embark_town alive  \n",
       "0  missing  Southampton    no  \n",
       "1        C    Cherbourg   yes  \n",
       "2  missing  Southampton   yes  \n",
       "3        C  Southampton   yes  \n",
       "4  missing  Southampton    no  "
      ]
     },
     "execution_count": 11,
     "metadata": {},
     "output_type": "execute_result"
    }
   ],
   "source": [
    "df.head()"
   ]
  },
  {
   "cell_type": "code",
   "execution_count": 12,
   "metadata": {},
   "outputs": [],
   "source": [
    "df.to_csv('titanic.csv', index=False)"
   ]
  },
  {
   "cell_type": "markdown",
   "metadata": {},
   "source": [
    "## Analysis"
   ]
  },
  {
   "cell_type": "code",
   "execution_count": 13,
   "metadata": {},
   "outputs": [
    {
     "data": {
      "text/plain": [
       "<matplotlib.legend.Legend at 0x24c8fd03608>"
      ]
     },
     "execution_count": 13,
     "metadata": {},
     "output_type": "execute_result"
    },
    {
     "data": {
      "image/png": "[encoded data removed]",
      "text/plain": [
       "<Figure size 1224x360 with 2 Axes>"
      ]
     },
     "metadata": {},
     "output_type": "display_data"
    }
   ],
   "source": [
    "sns.set_style('whitegrid')\n",
    "plt.figure(figsize = (17,5))\n",
    "\n",
    "plt.subplot(1,2,1)\n",
    "\n",
    "m_age = df[df['sex'] == 'male']['age']\n",
    "f_age = df[df['sex'] == 'female']['age']\n",
    "\n",
    "plt.hist(m_age, bins = 50, label = 'Male Age', alpha = 0.5)\n",
    "plt.hist(f_age, bins = 50, label = 'Female Age', alpha = 0.5);\n",
    "\n",
    "plt.title('Age Distribution by Gender')\n",
    "\n",
    "plt.legend(loc = 'best')\n",
    "\n",
    "plt.subplot(1,2,2)\n",
    "\n",
    "m_fare = df[df['sex'] == 'male']['fare']\n",
    "f_fare = df[df['sex'] == 'female']['fare']\n",
    "\n",
    "plt.hist(m_fare, bins = 50, label = 'Male Fare', alpha = 0.5)\n",
    "plt.hist(f_fare, bins = 50, label = 'Female Fare', alpha = 0.5);\n",
    "\n",
    "plt.title('Fare Distribution by Gender')\n",
    "\n",
    "plt.legend(loc = 'best')"
   ]
  },
  {
   "cell_type": "code",
   "execution_count": 14,
   "metadata": {},
   "outputs": [
    {
     "data": {
      "text/plain": [
       "<matplotlib.legend.Legend at 0x24c90014148>"
      ]
     },
     "execution_count": 14,
     "metadata": {},
     "output_type": "execute_result"
    },
    {
     "data": {
      "image/png": "[encoded data removed]",
      "text/plain": [
       "<Figure size 1224x360 with 2 Axes>"
      ]
     },
     "metadata": {},
     "output_type": "display_data"
    }
   ],
   "source": [
    "plt.figure(figsize = (17,5))\n",
    "\n",
    "plt.subplot(1,2,1)\n",
    "sns.countplot(x = 'class', data = df)\n",
    "plt.title('Passenger Class')\n",
    "\n",
    "plt.subplot(1,2,2)\n",
    "sns.countplot(x = 'class',hue = 'sex', data = df)\n",
    "plt.title('Passenger Class by Gender')\n",
    "plt.legend(loc = 'best')"
   ]
  },
  {
   "cell_type": "code",
   "execution_count": 15,
   "metadata": {},
   "outputs": [
    {
     "data": {
      "text/plain": [
       "<matplotlib.legend.Legend at 0x24c8fed2c08>"
      ]
     },
     "execution_count": 15,
     "metadata": {},
     "output_type": "execute_result"
    },
    {
     "data": {
      "image/png": "[encoded data removed]",
      "text/plain": [
       "<Figure size 1224x360 with 3 Axes>"
      ]
     },
     "metadata": {},
     "output_type": "display_data"
    }
   ],
   "source": [
    "plt.figure(figsize = (17,5))\n",
    "\n",
    "plt.subplot(1,3,1)\n",
    "sns.countplot(x = 'alive', data = df)\n",
    "plt.title('Alive')\n",
    "\n",
    "plt.subplot(1,3,2)\n",
    "sns.countplot(x = 'alive',hue = 'sex', data = df)\n",
    "plt.title('Gender Survival')\n",
    "plt.legend(loc = 'best')\n",
    "\n",
    "plt.subplot(1,3,3)\n",
    "sns.countplot(x = 'alive',hue = 'who', data = df)\n",
    "plt.title('Survival')\n",
    "plt.legend(loc = 'best')"
   ]
  },
  {
   "cell_type": "code",
   "execution_count": 16,
   "metadata": {},
   "outputs": [
    {
     "data": {
      "text/html": [
       "<div>\n",
       "<style scoped>\n",
       "    .dataframe tbody tr th:only-of-type {\n",
       "        vertical-align: middle;\n",
       "    }\n",
       "\n",
       "    .dataframe tbody tr th {\n",
       "        vertical-align: top;\n",
       "    }\n",
       "\n",
       "    .dataframe thead th {\n",
       "        text-align: right;\n",
       "    }\n",
       "</style>\n",
       "<table border=\"1\" class=\"dataframe\">\n",
       "  <thead>\n",
       "    <tr style=\"text-align: right;\">\n",
       "      <th>who</th>\n",
       "      <th>child</th>\n",
       "      <th>man</th>\n",
       "      <th>woman</th>\n",
       "    </tr>\n",
       "    <tr>\n",
       "      <th>class</th>\n",
       "      <th></th>\n",
       "      <th></th>\n",
       "      <th></th>\n",
       "    </tr>\n",
       "  </thead>\n",
       "  <tbody>\n",
       "    <tr>\n",
       "      <th>First</th>\n",
       "      <td>6</td>\n",
       "      <td>119</td>\n",
       "      <td>91</td>\n",
       "    </tr>\n",
       "    <tr>\n",
       "      <th>Second</th>\n",
       "      <td>19</td>\n",
       "      <td>99</td>\n",
       "      <td>66</td>\n",
       "    </tr>\n",
       "    <tr>\n",
       "      <th>Third</th>\n",
       "      <td>58</td>\n",
       "      <td>319</td>\n",
       "      <td>114</td>\n",
       "    </tr>\n",
       "  </tbody>\n",
       "</table>\n",
       "</div>"
      ],
      "text/plain": [
       "who     child  man  woman\n",
       "class                    \n",
       "First       6  119     91\n",
       "Second     19   99     66\n",
       "Third      58  319    114"
      ]
     },
     "execution_count": 16,
     "metadata": {},
     "output_type": "execute_result"
    }
   ],
   "source": [
    "class_sex = df.groupby(['class', 'who'])['alive'].count().unstack()\n",
    "class_sex"
   ]
  },
  {
   "cell_type": "code",
   "execution_count": 17,
   "metadata": {},
   "outputs": [
    {
     "data": {
      "text/plain": [
       "<matplotlib.axes._subplots.AxesSubplot at 0x24c8ff67d88>"
      ]
     },
     "execution_count": 17,
     "metadata": {},
     "output_type": "execute_result"
    },
    {
     "data": {
      "image/png": "[encoded data removed]",
      "text/plain": [
       "<Figure size 432x288 with 2 Axes>"
      ]
     },
     "metadata": {},
     "output_type": "display_data"
    }
   ],
   "source": [
    "sns.heatmap(class_sex, cmap = 'coolwarm')"
   ]
  },
  {
   "cell_type": "code",
   "execution_count": 18,
   "metadata": {},
   "outputs": [
    {
     "data": {
      "text/html": [
       "<div>\n",
       "<style scoped>\n",
       "    .dataframe tbody tr th:only-of-type {\n",
       "        vertical-align: middle;\n",
       "    }\n",
       "\n",
       "    .dataframe tbody tr th {\n",
       "        vertical-align: top;\n",
       "    }\n",
       "\n",
       "    .dataframe thead th {\n",
       "        text-align: right;\n",
       "    }\n",
       "</style>\n",
       "<table border=\"1\" class=\"dataframe\">\n",
       "  <thead>\n",
       "    <tr style=\"text-align: right;\">\n",
       "      <th>who</th>\n",
       "      <th>child</th>\n",
       "      <th>man</th>\n",
       "      <th>woman</th>\n",
       "    </tr>\n",
       "    <tr>\n",
       "      <th>embark_town</th>\n",
       "      <th></th>\n",
       "      <th></th>\n",
       "      <th></th>\n",
       "    </tr>\n",
       "  </thead>\n",
       "  <tbody>\n",
       "    <tr>\n",
       "      <th>Cherbourg</th>\n",
       "      <td>18.0</td>\n",
       "      <td>90.0</td>\n",
       "      <td>60.0</td>\n",
       "    </tr>\n",
       "    <tr>\n",
       "      <th>Queenstown</th>\n",
       "      <td>5.0</td>\n",
       "      <td>37.0</td>\n",
       "      <td>35.0</td>\n",
       "    </tr>\n",
       "    <tr>\n",
       "      <th>Southampton</th>\n",
       "      <td>60.0</td>\n",
       "      <td>410.0</td>\n",
       "      <td>174.0</td>\n",
       "    </tr>\n",
       "    <tr>\n",
       "      <th>missing</th>\n",
       "      <td>NaN</td>\n",
       "      <td>NaN</td>\n",
       "      <td>2.0</td>\n",
       "    </tr>\n",
       "  </tbody>\n",
       "</table>\n",
       "</div>"
      ],
      "text/plain": [
       "who          child    man  woman\n",
       "embark_town                     \n",
       "Cherbourg     18.0   90.0   60.0\n",
       "Queenstown     5.0   37.0   35.0\n",
       "Southampton   60.0  410.0  174.0\n",
       "missing        NaN    NaN    2.0"
      ]
     },
     "execution_count": 18,
     "metadata": {},
     "output_type": "execute_result"
    }
   ],
   "source": [
    "embark_sex = df.groupby(['embark_town', 'who'])['alive'].count().unstack()\n",
    "embark_sex"
   ]
  },
  {
   "cell_type": "code",
   "execution_count": 19,
   "metadata": {},
   "outputs": [
    {
     "data": {
      "text/plain": [
       "<matplotlib.axes._subplots.AxesSubplot at 0x24c902063c8>"
      ]
     },
     "execution_count": 19,
     "metadata": {},
     "output_type": "execute_result"
    },
    {
     "data": {
      "image/png": "[encoded data removed]",
      "text/plain": [
       "<Figure size 432x288 with 2 Axes>"
      ]
     },
     "metadata": {},
     "output_type": "display_data"
    }
   ],
   "source": [
    "sns.heatmap(embark_sex, cmap = 'coolwarm')"
   ]
  },
  {
   "cell_type": "code",
   "execution_count": 20,
   "metadata": {},
   "outputs": [],
   "source": [
    "## Pearson Correlation Assumptions:\n",
    "\n",
    "## Variables are Normally Distributed\n",
    "## No Significant Outliers\n",
    "## The relationship between the variables is approximately linear\n",
    "\n",
    "## If assumptions not met, perform nonparametric Spearmans correlation"
   ]
  },
  {
   "cell_type": "code",
   "execution_count": 21,
   "metadata": {},
   "outputs": [
    {
     "name": "stdout",
     "output_type": "stream",
     "text": [
      "age\n",
      "Statistics=0.954, p=0.000\n",
      "Sample does not look Gaussian (reject H0)\n",
      "---------------------\n",
      "fare\n",
      "Statistics=0.522, p=0.000\n",
      "Sample does not look Gaussian (reject H0)\n",
      "---------------------\n"
     ]
    }
   ],
   "source": [
    "## Normality Tests\n",
    "\n",
    "# example of the shapiro-wilk test\n",
    "from numpy.random import seed\n",
    "from numpy.random import randn\n",
    "from scipy.stats import shapiro\n",
    "\n",
    "cols = ['age', 'fare']\n",
    "for i in cols:\n",
    "    print(i)\n",
    "    stat, p = shapiro(df[i])\n",
    "    print('Statistics=%.3f, p=%.3f' % (stat, p))\n",
    "    # interpret\n",
    "    alpha = 0.05\n",
    "    if p > alpha:\n",
    "        print('Sample looks Gaussian (fail to reject H0)')\n",
    "    else:\n",
    "        print('Sample does not look Gaussian (reject H0)')\n",
    "    print('---------------------')"
   ]
  },
  {
   "cell_type": "code",
   "execution_count": 22,
   "metadata": {},
   "outputs": [
    {
     "data": {
      "image/png": "[encoded data removed]",
      "text/plain": [
       "<Figure size 432x288 with 1 Axes>"
      ]
     },
     "metadata": {},
     "output_type": "display_data"
    }
   ],
   "source": [
    "from statsmodels.graphics.gofplots import qqplot\n",
    "\n",
    "qqplot(df['age'], line='s', c='g')\n",
    "plt.title('QQ Plot (Age) Normality Check')\n",
    "plt.show()"
   ]
  },
  {
   "cell_type": "code",
   "execution_count": 23,
   "metadata": {},
   "outputs": [
    {
     "data": {
      "image/png": "[encoded data removed]",
      "text/plain": [
       "<Figure size 432x288 with 1 Axes>"
      ]
     },
     "metadata": {},
     "output_type": "display_data"
    }
   ],
   "source": [
    "qqplot(df['fare'], line='s', c='g')\n",
    "plt.title('QQ Plot (Fare) Normality Check')\n",
    "plt.show()"
   ]
  },
  {
   "cell_type": "code",
   "execution_count": 24,
   "metadata": {},
   "outputs": [
    {
     "name": "stdout",
     "output_type": "stream",
     "text": [
      "age\n",
      "Percentiles: 25th=22.000, 75th=35.000, IQR=13.000\n",
      "Identified outliers: 66\n",
      "Non-outlier observations: 825\n",
      "----------------------------------------------\n",
      "fare\n",
      "Percentiles: 25th=7.910, 75th=31.000, IQR=23.090\n",
      "Identified outliers: 116\n",
      "Non-outlier observations: 775\n",
      "----------------------------------------------\n"
     ]
    }
   ],
   "source": [
    "# identify outliers with interquartile range\n",
    "from numpy.random import seed\n",
    "from numpy.random import randn\n",
    "from numpy import percentile\n",
    "\n",
    "cols = ['age', 'fare']\n",
    "\n",
    "# calculate interquartile range\n",
    "for i in cols:\n",
    "    q25, q75 = percentile(df[i], 25), percentile(df[i], 75)\n",
    "    iqr = q75 - q25\n",
    "    print(i)\n",
    "    print('Percentiles: 25th=%.3f, 75th=%.3f, IQR=%.3f' % (q25, q75, iqr))\n",
    "    # calculate the outlier cutoff\n",
    "    cut_off = iqr * 1.5\n",
    "    lower, upper = q25 - cut_off, q75 + cut_off\n",
    "    # identify outliers\n",
    "    outliers = [x for x in df[i] if x < lower or x > upper]\n",
    "    print('Identified outliers: %d' % len(outliers))\n",
    "    # remove outliers\n",
    "    outliers_removed = [x for x in df[i] if x >= lower and x <= upper]\n",
    "    print('Non-outlier observations: %d' % len(outliers_removed))\n",
    "    print('----------------------------------------------')"
   ]
  },
  {
   "cell_type": "code",
   "execution_count": 25,
   "metadata": {},
   "outputs": [
    {
     "data": {
      "image/png": "[encoded data removed]",
      "text/plain": [
       "<Figure size 720x432 with 1 Axes>"
      ]
     },
     "metadata": {},
     "output_type": "display_data"
    }
   ],
   "source": [
    "## Linearity\n",
    "\n",
    "cols = ['age', 'fare']\n",
    "combo = []\n",
    "for i in range(len(cols)):\n",
    "    for j in range(i+1, len(cols)):\n",
    "        combo.append((i,j))\n",
    "\n",
    "for i in range(len(combo)):\n",
    "    plt.figure(figsize = (10,6))\n",
    "    sns.scatterplot(data=df, x=cols[combo[i][0]], y=cols[combo[i][1]])"
   ]
  },
  {
   "cell_type": "code",
   "execution_count": 26,
   "metadata": {},
   "outputs": [
    {
     "name": "stdout",
     "output_type": "stream",
     "text": [
      "age vs fare\n",
      "Spearmans correlation coefficient: 0.126\n",
      "Samples are correlated (reject H0) p=0.000\n",
      "--------------------------------------------\n"
     ]
    }
   ],
   "source": [
    "# Calculate the spearman's correlation between two variables\n",
    "from numpy.random import rand\n",
    "from numpy.random import seed\n",
    "from scipy.stats import spearmanr\n",
    "\n",
    "cols = ['age', 'fare']\n",
    "combo = []\n",
    "for i in range(len(cols)):\n",
    "    for j in range(i+1, len(cols)):\n",
    "        combo.append((i,j))\n",
    "\n",
    "# calculate spearman's correlation\n",
    "for i in range(len(combo)):\n",
    "    print(cols[combo[i][0]]+' vs '+cols[combo[i][1]])\n",
    "    coef, p = spearmanr(df[cols[combo[i][0]]], df[cols[combo[i][1]]])\n",
    "    print('Spearmans correlation coefficient: %.3f' % coef)\n",
    "\n",
    "    # interpret the significance\n",
    "    alpha = 0.05\n",
    "    if p > alpha:\n",
    "        print('Samples are uncorrelated (fail to reject H0) p=%.3f' % p)\n",
    "    else:\n",
    "        print('Samples are correlated (reject H0) p=%.3f' % p)\n",
    "    \n",
    "    print('--------------------------------------------')"
   ]
  },
  {
   "cell_type": "markdown",
   "metadata": {},
   "source": [
    "## Chi Square Goodness Of Fit Tests"
   ]
  },
  {
   "cell_type": "markdown",
   "metadata": {},
   "source": [
    "### Class Variable"
   ]
  },
  {
   "cell_type": "markdown",
   "metadata": {},
   "source": [
    "![title](chi-class.png)"
   ]
  },
  {
   "cell_type": "markdown",
   "metadata": {},
   "source": [
    "The chi square value is seventy 191.80 with two degrees of freedom and the P-value is very low. It is lower than 5 percent. So we are going to reject the null hypothesis and say that the class levels do not have an equal distribution."
   ]
  },
  {
   "cell_type": "markdown",
   "metadata": {},
   "source": [
    "### Embark Town Variable"
   ]
  },
  {
   "cell_type": "markdown",
   "metadata": {},
   "source": [
    "![title](chi-embark-town.png)"
   ]
  },
  {
   "cell_type": "markdown",
   "metadata": {},
   "source": [
    "The chi square value is seventy 1124.20 with three degrees of freedom and the P-value is very low. It is lower than 5 percent. So we are going to reject the null hypothesis and say that the embark town levels do not have an equal distribution."
   ]
  },
  {
   "cell_type": "markdown",
   "metadata": {},
   "source": [
    "### Who Variable"
   ]
  },
  {
   "cell_type": "markdown",
   "metadata": {},
   "source": [
    "![title](chi-who.png)"
   ]
  },
  {
   "cell_type": "markdown",
   "metadata": {},
   "source": [
    "The chi square value is seventy 350.41 with two degrees of freedom and the P-value is very low. It is lower than 5 percent. So we are going to reject the null hypothesis and say that the 'who' levels do not have an equal distribution."
   ]
  },
  {
   "cell_type": "markdown",
   "metadata": {},
   "source": [
    "### Deck Variable"
   ]
  },
  {
   "cell_type": "markdown",
   "metadata": {},
   "source": [
    "![title](chi-deck.png)"
   ]
  },
  {
   "cell_type": "markdown",
   "metadata": {},
   "source": [
    "The chi square value is seventy 3432.70 with seven degrees of freedom and the P-value is very low. It is lower than 5 percent. So we are going to reject the null hypothesis and say that the deck levels do not have an equal distribution."
   ]
  },
  {
   "cell_type": "markdown",
   "metadata": {},
   "source": [
    "## Chi Square Test of Association"
   ]
  },
  {
   "cell_type": "code",
   "execution_count": 27,
   "metadata": {},
   "outputs": [],
   "source": [
    "## Categorical variables: sex, class, who, embark town, alive, deck\n",
    "\n",
    "## Comparisons: sex vs class\n",
    "## Comparisons: sex vs who\n",
    "## Comparisons: sex vs embark town\n",
    "## Comparisons: sex vs alive\n",
    "## Comparisons: sex vs deck\n",
    "\n",
    "## Comparisons: class vs who\n",
    "## Comparisons: class vs embark town\n",
    "## Comparisons: class vs alive\n",
    "## Comparisons: class vs deck\n",
    "\n",
    "## Comparisons: who vs embark town\n",
    "## Comparisons: who vs alive\n",
    "## Comparisons: who vs deck\n",
    "\n",
    "## Comparisons: embark town vs alive\n",
    "## Comparisons: embark town vs deck\n",
    "\n",
    "## Comparisons: alive vs deck"
   ]
  },
  {
   "cell_type": "markdown",
   "metadata": {},
   "source": [
    "![title](sex-class-chi.png)"
   ]
  },
  {
   "cell_type": "markdown",
   "metadata": {},
   "source": [
    "From the above, the P value is less than 5%, thus there is a significant relationship between sex and class variable. With a Cramer V value of 0.13. Thus, highlighting a weak relationship"
   ]
  },
  {
   "cell_type": "markdown",
   "metadata": {},
   "source": [
    "![title](sex-who-chi.png)"
   ]
  },
  {
   "cell_type": "markdown",
   "metadata": {},
   "source": [
    "From the above, the P value is less than 5%, thus there is a significant relationship between sex and who variables. With a Cramer V value of 0.94. Thus, highlighting a strong relationship"
   ]
  },
  {
   "cell_type": "markdown",
   "metadata": {},
   "source": [
    "![title](sex-embark-chi.png)"
   ]
  },
  {
   "cell_type": "markdown",
   "metadata": {},
   "source": [
    "From the above, since some expected counts < 5, the Fishers exact test is used. The P value is less than 5%. Thus, there is a significant relationship between sex and embark_town variables. The Cramer V value is 0.13 indicating a weak relationship."
   ]
  },
  {
   "cell_type": "markdown",
   "metadata": {},
   "source": [
    "![title](sex-alive-chi.png)"
   ]
  },
  {
   "cell_type": "markdown",
   "metadata": {},
   "source": [
    "From the above, the P value is less than 5%, thus there is a significant relationship between sex and alive variables. With a Cramer V value of 0.54. Thus, highlighting a moderate relationship"
   ]
  },
  {
   "cell_type": "markdown",
   "metadata": {},
   "source": [
    "![title](sex-deck-chi.png)"
   ]
  },
  {
   "cell_type": "markdown",
   "metadata": {},
   "source": [
    "From the above, since some expected counts < 5, the Fishers exact test is used. The P value is less than 5%. Thus, there is a significant relationship between sex and deck variables. The Cramer V value is 0.20 indicating a weak relationship."
   ]
  },
  {
   "cell_type": "markdown",
   "metadata": {},
   "source": [
    "![title](class-who-chi.png)"
   ]
  },
  {
   "cell_type": "markdown",
   "metadata": {},
   "source": [
    "From the above, the P value is less than 5%, thus there is a significant relationship between class and who variables. With a Cramer V value of 0.14. Thus, highlighting a weak relationship."
   ]
  },
  {
   "cell_type": "markdown",
   "metadata": {},
   "source": [
    "![title](class-embark-chi.png)"
   ]
  },
  {
   "cell_type": "markdown",
   "metadata": {},
   "source": [
    "From the above, the P value is less than 5%, thus there is a significant relationship between class and embark variables. With a Cramer V value of 0.26. Thus, highlighting a weak relationship."
   ]
  },
  {
   "cell_type": "markdown",
   "metadata": {},
   "source": [
    "![title](class-alive-chi.png)"
   ]
  },
  {
   "cell_type": "markdown",
   "metadata": {},
   "source": [
    "From the above, the P value is less than 5%, thus there is a significant relationship between class and alive variables. With a Cramer V value of 0.33. Thus, highlighting a weak-moderate relationship."
   ]
  },
  {
   "cell_type": "markdown",
   "metadata": {},
   "source": [
    "![title](class-deck-chi.png)"
   ]
  },
  {
   "cell_type": "markdown",
   "metadata": {},
   "source": [
    "From the above, since some expected counts < 5, the Fishers exact test is used. The P value is less than 5%. Thus, there is a significant relationship between class and deck variables. The Cramer V value is 0.60 indicating a moderate relationship."
   ]
  },
  {
   "cell_type": "markdown",
   "metadata": {},
   "source": [
    "![title](who-embark-chi.png)"
   ]
  },
  {
   "cell_type": "markdown",
   "metadata": {},
   "source": [
    "From the above, since some expected counts < 5, the Fishers exact test is used. The P value is less than 5%. Thus, there is a significant relationship between who and embark variables. The Cramer V value is 0.10 indicating a weak relationship."
   ]
  },
  {
   "cell_type": "markdown",
   "metadata": {},
   "source": [
    "![title](who-alive-chi.png)"
   ]
  },
  {
   "cell_type": "markdown",
   "metadata": {},
   "source": [
    "From the above, the P value is less than 5%, thus there is a significant relationship between who and alive variables. With a Cramer V value of 0.56. Thus, highlighting a moderate relationship."
   ]
  },
  {
   "cell_type": "markdown",
   "metadata": {},
   "source": [
    "![title](who-deck-chi.png)"
   ]
  },
  {
   "cell_type": "markdown",
   "metadata": {},
   "source": [
    "From the above, since some expected counts < 5, the Fishers exact test is used. The P value is less than 5%. Thus, there is a significant relationship between who and deck variables. The Cramer V value is 0.18 indicating a weak relationship."
   ]
  },
  {
   "cell_type": "markdown",
   "metadata": {},
   "source": [
    "![title](embark-alive-chi.png)"
   ]
  },
  {
   "cell_type": "markdown",
   "metadata": {},
   "source": [
    "From the above, since some expected counts < 5, the Fishers exact test is used. The P value is less than 5%. Thus, there is a significant relationship between embark_town and alive variables. The Cramer V value is 0.18 indicating a weak relationship."
   ]
  },
  {
   "cell_type": "markdown",
   "metadata": {},
   "source": [
    "![title](embark-deck-chi.png)"
   ]
  },
  {
   "cell_type": "markdown",
   "metadata": {},
   "source": [
    "From the above, since some expected counts < 5, the Fishers exact test is used. The P value is less than 5%. Thus, there is a significant relationship between embark_town and deck variables. The Cramer V value is 0.20 indicating a weak relationship."
   ]
  },
  {
   "cell_type": "markdown",
   "metadata": {},
   "source": [
    "![title](alive-deck-chi.png)"
   ]
  },
  {
   "cell_type": "markdown",
   "metadata": {},
   "source": [
    "From the above, since some expected counts < 5, the Fishers exact test is used. The P value is less than 5%. Thus, there is a significant relationship between alive and deck variables. The Cramer V value is 0.33 indicating a weak-moderate relationship."
   ]
  },
  {
   "cell_type": "markdown",
   "metadata": {},
   "source": [
    "## Mann Whitney Test"
   ]
  },
  {
   "cell_type": "code",
   "execution_count": 28,
   "metadata": {},
   "outputs": [],
   "source": [
    "## Is there a significant difference in average age between those who survived or not?"
   ]
  },
  {
   "cell_type": "code",
   "execution_count": 29,
   "metadata": {},
   "outputs": [],
   "source": [
    "df['age'] = df['age'].astype(int)"
   ]
  },
  {
   "cell_type": "code",
   "execution_count": 30,
   "metadata": {},
   "outputs": [],
   "source": [
    "df1 = df.loc[:,['alive', 'age']]\n",
    "df1.to_csv('alive_age.csv', index=False)"
   ]
  },
  {
   "cell_type": "markdown",
   "metadata": {},
   "source": [
    "![title](age-alive-wil.png)"
   ]
  },
  {
   "cell_type": "markdown",
   "metadata": {},
   "source": [
    "The P value > 5%, thus we fail to reject the null hypothesis and say there is no significant difference in the medians of the two groups (alive or not alive) with respect to age"
   ]
  },
  {
   "cell_type": "code",
   "execution_count": 31,
   "metadata": {},
   "outputs": [],
   "source": [
    "## Is there a significant difference in average fare between the sex variable (male or female)?"
   ]
  },
  {
   "cell_type": "code",
   "execution_count": 32,
   "metadata": {},
   "outputs": [],
   "source": [
    "df1 = df.loc[:,['sex', 'fare']]\n",
    "df1.to_csv('sex_fare.csv', index=False)"
   ]
  },
  {
   "cell_type": "markdown",
   "metadata": {},
   "source": [
    "![title](sex-fare-wil.png)"
   ]
  },
  {
   "cell_type": "markdown",
   "metadata": {},
   "source": [
    "![title](sex-fare-wil2.png)"
   ]
  },
  {
   "cell_type": "markdown",
   "metadata": {},
   "source": [
    "The P value < 5%, thus we reject the null hypothesis and say there is a significant difference in the medians of the two groups (male or female) with respect to fare paid. Females paid an average fare of 23, whereas males paid an average fare of 10.5"
   ]
  },
  {
   "cell_type": "markdown",
   "metadata": {},
   "source": [
    "## Kruskal Wallis Test"
   ]
  },
  {
   "cell_type": "code",
   "execution_count": 33,
   "metadata": {},
   "outputs": [],
   "source": [
    "## Is there a significant difference in average fare between the class variable (first or second or third)?"
   ]
  },
  {
   "cell_type": "code",
   "execution_count": 34,
   "metadata": {},
   "outputs": [],
   "source": [
    "df1 = df.loc[:,['fare', 'class']]\n",
    "df1.to_csv('fare_class.csv', index=False)"
   ]
  },
  {
   "cell_type": "markdown",
   "metadata": {},
   "source": [
    "![title](fare-class-krus.png)"
   ]
  },
  {
   "cell_type": "markdown",
   "metadata": {},
   "source": [
    "![title](fare-class-krus2.png)"
   ]
  },
  {
   "cell_type": "markdown",
   "metadata": {},
   "source": [
    "The P value < 5%. Thus we reject the null hypothesis and state that there is a significant difference in the medians of the three groups (first class, second class and third class) with respect to average fare paid. The fares increased on average from third class to first class."
   ]
  },
  {
   "cell_type": "code",
   "execution_count": 35,
   "metadata": {},
   "outputs": [],
   "source": [
    "## Is there a significant difference in average age between the class variable (first or second or third)?"
   ]
  },
  {
   "cell_type": "code",
   "execution_count": 36,
   "metadata": {},
   "outputs": [],
   "source": [
    "df1 = df.loc[:,['age', 'class']]\n",
    "df1.to_csv('age_class.csv', index=False)"
   ]
  },
  {
   "cell_type": "markdown",
   "metadata": {},
   "source": [
    "![title](age-class-krus.png)"
   ]
  },
  {
   "cell_type": "markdown",
   "metadata": {},
   "source": [
    "![title](age-class-krus2.png)"
   ]
  },
  {
   "cell_type": "markdown",
   "metadata": {},
   "source": [
    "The P value < 5%. Thus we reject the null hypothesis and state that there is a significant difference in the medians of the three groups (first class, second class and third class) with respect to average age. The difference is particulary seen in the older ages of those who are in first class compared to those in lower classes"
   ]
  },
  {
   "cell_type": "code",
   "execution_count": 37,
   "metadata": {},
   "outputs": [],
   "source": [
    "## Is there a significant difference in average fare between the embark_town variable?"
   ]
  },
  {
   "cell_type": "code",
   "execution_count": 38,
   "metadata": {},
   "outputs": [],
   "source": [
    "df1 = df.loc[:,['fare', 'embark_town']]\n",
    "df1.to_csv('fare_embark.csv', index=False)"
   ]
  },
  {
   "cell_type": "markdown",
   "metadata": {},
   "source": [
    "![title](fare-embark-krus.png)"
   ]
  },
  {
   "cell_type": "markdown",
   "metadata": {},
   "source": [
    "![title](fare-embark-krus2.png)"
   ]
  },
  {
   "cell_type": "markdown",
   "metadata": {},
   "source": [
    "The P value < 5%. Thus we reject the null hypothesis and state that there is a significant difference in the medians of the  embark_town groups with respect to average fare. Queenstown was the cheapest on average, followed by Southampton, followed by Cherbourg and finally the 'missing' variable. "
   ]
  },
  {
   "cell_type": "code",
   "execution_count": 39,
   "metadata": {},
   "outputs": [],
   "source": [
    "## Is there a significant difference in average age between the embark_town variable?"
   ]
  },
  {
   "cell_type": "code",
   "execution_count": 40,
   "metadata": {},
   "outputs": [],
   "source": [
    "df1 = df.loc[:,['age', 'embark_town']]\n",
    "df1.to_csv('age_embark.csv', index=False)"
   ]
  },
  {
   "cell_type": "markdown",
   "metadata": {},
   "source": [
    "![title](age-embark-krus.png)"
   ]
  },
  {
   "cell_type": "markdown",
   "metadata": {},
   "source": [
    "The P value > 5%, thus we fail to reject the null hypothesis and say there is no significant difference in the medians of the embark_town groups with respect to age."
   ]
  },
  {
   "cell_type": "markdown",
   "metadata": {},
   "source": [
    "## Questions"
   ]
  },
  {
   "cell_type": "code",
   "execution_count": 41,
   "metadata": {},
   "outputs": [
    {
     "name": "stdout",
     "output_type": "stream",
     "text": [
      "AxesSubplot(0.125,0.125;0.775x0.755)\n",
      "Min Fare: 0.000\n",
      "Average Fare: 14.454\n",
      "Max Fare: 512.329\n"
     ]
    },
    {
     "data": {
      "image/png": "[encoded data removed]",
      "text/plain": [
       "<Figure size 432x288 with 1 Axes>"
      ]
     },
     "metadata": {},
     "output_type": "display_data"
    }
   ],
   "source": [
    "## What is the lowest/highest/average fare that passengers paid?\n",
    "\n",
    "print(df['fare'].hist(bins = 50))\n",
    "plt.title('Distribution of Fare')\n",
    "print('Min Fare: {:.3f}'.format(df['fare'].min()))\n",
    "print('Average Fare: {:.3f}'.format(df['fare'].median())) #<- median better measure of central tendency than mean for skewed distributions\n",
    "print('Max Fare: {:.3f}'.format(df['fare'].max()))"
   ]
  },
  {
   "cell_type": "code",
   "execution_count": 42,
   "metadata": {},
   "outputs": [
    {
     "name": "stdout",
     "output_type": "stream",
     "text": [
      "P(Survived | High Fare): 0.518\n",
      "P(Survived | Low Fare): 0.252\n",
      "P(Survived | Average Fare): 0.143\n"
     ]
    }
   ],
   "source": [
    "## Given that a person paid high fare. What is the probability that they survived? P(survived | high fare)\n",
    "\n",
    "average = df['fare'].median()\n",
    "p_survive_high_fare = (df[df['fare'] > average]['survived'] == 1).mean()\n",
    "print('P(Survived | High Fare): {:.3f}'.format(p_survive_high_fare))\n",
    "\n",
    "## Given that a person paid low fare. What is the probability that they survived? P(survived | low fare)\n",
    "p_survive_low_fare = (df[df['fare'] < average]['survived'] == 1).mean()\n",
    "print('P(Survived | Low Fare): {:.3f}'.format(p_survive_low_fare))\n",
    "\n",
    "## Given that a person paid the average fare. What is the probability that they survived? P(survived | average fare)\n",
    "p_survive_av_fare = (df[df['fare'] == average]['survived'] == 1).mean()\n",
    "print('P(Survived | Average Fare): {:.3f}'.format(p_survive_av_fare))\n",
    "\n",
    "## Note: An alternative method would be to create a categorical column called fare_type with high-average-low fares and perform:\n",
    "## df.groupby('fare_type')['survived'].mean()"
   ]
  },
  {
   "cell_type": "code",
   "execution_count": 43,
   "metadata": {},
   "outputs": [
    {
     "data": {
      "text/plain": [
       "class\n",
       "First     0.629630\n",
       "Second    0.472826\n",
       "Third     0.242363\n",
       "Name: survived, dtype: float64"
      ]
     },
     "execution_count": 43,
     "metadata": {},
     "output_type": "execute_result"
    }
   ],
   "source": [
    "## What are the survival rates according to Class (First, Second, Third)?\n",
    "\n",
    "df.groupby('class')['survived'].mean()\n",
    "\n",
    "## Note: An alternative method would be to layout the problem as a conditional probability as above"
   ]
  },
  {
   "cell_type": "code",
   "execution_count": 44,
   "metadata": {},
   "outputs": [
    {
     "name": "stdout",
     "output_type": "stream",
     "text": [
      "man      537\n",
      "woman    271\n",
      "girl      43\n",
      "boy       40\n",
      "Name: who2, dtype: int64\n"
     ]
    }
   ],
   "source": [
    "## How many boys were on the Titanic, and how many girls?\n",
    "\n",
    "types = list(df['who'])\n",
    "gender = list(df['sex'])\n",
    "new = []\n",
    "\n",
    "for i in range(len(gender)):\n",
    "    if gender[i] == 'male' and types[i] == 'man':\n",
    "        new.append(types[i])\n",
    "    if gender[i] == 'female' and types[i] == 'woman':\n",
    "        new.append(types[i])\n",
    "    if gender[i] == 'male' and types[i] == 'child':\n",
    "        new.append('boy')\n",
    "    if gender[i] == 'female' and types[i] == 'child':\n",
    "        new.append('girl')\n",
    "\n",
    "df['who2'] = new\n",
    "\n",
    "print(df['who2'].value_counts())"
   ]
  },
  {
   "cell_type": "code",
   "execution_count": 45,
   "metadata": {},
   "outputs": [
    {
     "name": "stdout",
     "output_type": "stream",
     "text": [
      "P(child | survived): 0.14327485380116958\n",
      "P(survived): 0.3838383838383838\n",
      "P(child): 0.0931537598204265\n",
      "--------------------------\n",
      "Bayes Theorem: 0.590\n"
     ]
    }
   ],
   "source": [
    "## Calculate the probability for survival given the passenger is a child. P(survived | child).\n",
    "\n",
    "## Using Bayes Theorem, we need:\n",
    "    ## P(child | survived)\n",
    "    ## P(survived)\n",
    "    ## P(child)\n",
    "\n",
    "p_child_survive = (df[df['survived'] == 1]['who'] == 'child').mean()\n",
    "p_survived = df['survived'].mean()\n",
    "\n",
    "## create binary child column\n",
    "df['ischild'] = df['who'] == 'child'\n",
    "p_child = df['ischild'].mean()\n",
    "\n",
    "print(f'P(child | survived): {p_child_survive}')\n",
    "print(f'P(survived): {p_survived}')\n",
    "print(f'P(child): {p_child}')\n",
    "print('--------------------------')\n",
    "print('Bayes Theorem: {:.3f}'.format((p_child_survive * p_survived) / p_child))"
   ]
  },
  {
   "cell_type": "code",
   "execution_count": 46,
   "metadata": {},
   "outputs": [
    {
     "name": "stdout",
     "output_type": "stream",
     "text": [
      "P(survived | child): 0.590\n"
     ]
    }
   ],
   "source": [
    "## Confirm via direct method:\n",
    "## P(survived | child)\n",
    "\n",
    "p_survive_child = df[df['who'] == 'child']['survived'].mean()\n",
    "print('P(survived | child): {:.3f}'.format(p_survive_child))"
   ]
  },
  {
   "cell_type": "code",
   "execution_count": 47,
   "metadata": {},
   "outputs": [
    {
     "name": "stdout",
     "output_type": "stream",
     "text": [
      "P(survived | adult): 0.363\n"
     ]
    }
   ],
   "source": [
    "## Calculate the probability for survival given the passenger is an adult. P(survived | adult).\n",
    "\n",
    "## create binary adult column\n",
    "df['adult'] = (df['who']=='man') | (df['who']=='woman')\n",
    "\n",
    "p_survive_adult = df[df['adult'] == True]['survived'].mean()\n",
    "print('P(survived | adult): {:.3f}'.format(p_survive_adult))"
   ]
  },
  {
   "cell_type": "code",
   "execution_count": null,
   "metadata": {},
   "outputs": [],
   "source": []
  }
 ],
 "metadata": {
  "kernelspec": {
   "display_name": "Python 3",
   "language": "python",
   "name": "python3"
  },
  "language_info": {
   "codemirror_mode": {
    "name": "ipython",
    "version": 3
   },
   "file_extension": ".py",
   "mimetype": "text/x-python",
   "name": "python",
   "nbconvert_exporter": "python",
   "pygments_lexer": "ipython3",
   "version": "3.7.6"
  }
 },
 "nbformat": 4,
 "nbformat_minor": 4
}
