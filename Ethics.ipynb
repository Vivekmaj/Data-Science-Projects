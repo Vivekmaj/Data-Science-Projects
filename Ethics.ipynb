{
 "cells": [
  {
   "cell_type": "code",
   "execution_count": 1,
   "metadata": {},
   "outputs": [],
   "source": [
    "import re\n",
    "import pandas as pd"
   ]
  },
  {
   "cell_type": "code",
   "execution_count": 2,
   "metadata": {},
   "outputs": [],
   "source": [
    "# Working Patterns:\n",
    "\n",
    "# being gay is a (\\w+)\n",
    "# lgbt people from (\\w+)\n",
    "\n",
    "# muslims are a (\\w+)\n",
    "# all muslims are (\\w+)\n",
    "# islam is a (\\w+) religion\n",
    "\n",
    "# woman is a (\\w+)\n",
    "# women should be allowed to (\\w+)"
   ]
  },
  {
   "cell_type": "code",
   "execution_count": 3,
   "metadata": {},
   "outputs": [],
   "source": [
    "# assume your script is in the same directory as both (uncompressed) files\n",
    "fnobias = 'nobias_corpus.txt'\n",
    "fbias = 'bias_corpus.txt'\n",
    "\n",
    "dnobias = {}\n",
    "dbias = {}\n",
    "\n",
    "pattern = 'woman is a (\\w+)' # your pattern here, for example \"refugees and other (\\w+)\""
   ]
  },
  {
   "cell_type": "code",
   "execution_count": null,
   "metadata": {},
   "outputs": [],
   "source": []
  },
  {
   "cell_type": "code",
   "execution_count": 4,
   "metadata": {},
   "outputs": [
    {
     "name": "stdout",
     "output_type": "stream",
     "text": [
      "processing no bias\n",
      "processing bias\n"
     ]
    }
   ],
   "source": [
    "matches_bias = []\n",
    "match_1 = []\n",
    "my_list_1 = []\n",
    "\n",
    "matches_no_bias = []\n",
    "match_2 = []\n",
    "my_list_2 = []\n",
    "\n",
    "print('processing no bias')\n",
    "for line in open(fnobias):\n",
    "    matches_no_bias.append(re.findall(pattern, line))\n",
    "    \n",
    "for i in range(len(matches_no_bias)):\n",
    "    if matches_no_bias[i] != []:\n",
    "        match_2.append(matches_no_bias[i])\n",
    "\n",
    "for i in match_2:\n",
    "    for j in i:\n",
    "        my_list_2.append(j)\n",
    "\n",
    "for i in range(len(my_list_2)):\n",
    "    dnobias.update({my_list_2[i]: my_list_2.count(my_list_2[i])})\n",
    "\n",
    "print('processing bias')\n",
    "for line in open(fbias):\n",
    "    matches_bias.append(re.findall(pattern, line))\n",
    "    \n",
    "for i in range(len(matches_bias)):\n",
    "    if matches_bias[i] != []:\n",
    "        match_1.append(matches_bias[i])\n",
    "\n",
    "for i in match_1:\n",
    "    for j in i:\n",
    "        my_list_1.append(j)\n",
    "        \n",
    "for i in range(len(my_list_1)):\n",
    "    dbias.update({my_list_1[i]: my_list_1.count(my_list_1[i])})"
   ]
  },
  {
   "cell_type": "code",
   "execution_count": 5,
   "metadata": {},
   "outputs": [],
   "source": [
    "sorted_bias = sorted(dbias.items(), key=lambda x:x[1], reverse=True)\n",
    "sorted_nobias = sorted(dnobias.items(), key=lambda x:x[1], reverse=True)"
   ]
  },
  {
   "cell_type": "code",
   "execution_count": 6,
   "metadata": {},
   "outputs": [],
   "source": [
    "rows = []"
   ]
  },
  {
   "cell_type": "code",
   "execution_count": 7,
   "metadata": {
    "scrolled": true
   },
   "outputs": [
    {
     "name": "stdout",
     "output_type": "stream",
     "text": [
      "    bias_word  bias_freq nobias_word  nobias_freq\n",
      "0      victim          6      victim            3\n",
      "1       woman          4         nut            2\n",
      "2  prostitute          2      flower            2\n",
      "3     disease          2         spa            1\n",
      "4   potential          2      syrian            1\n",
      "5        real          2     miracle            1\n",
      "6         she          1     warrior            1\n",
      "7  republican          1     coveted            1\n"
     ]
    }
   ],
   "source": [
    "# ensure we get the same number of rows for both sets of results\n",
    "maxlen = min(len(sorted_bias),len(sorted_nobias))\n",
    "for i in range(maxlen):\n",
    "    rows.append({\n",
    "        'bias_word':sorted_bias[i][0], \n",
    "        'bias_freq':sorted_bias[i][1],\n",
    "        'nobias_word':sorted_nobias[i][0],\n",
    "        'nobias_freq':sorted_nobias[i][1]\n",
    "        })\n",
    "\n",
    "df = pd.DataFrame(rows)\n",
    "print(df)"
   ]
  },
  {
   "cell_type": "code",
   "execution_count": null,
   "metadata": {},
   "outputs": [],
   "source": []
  },
  {
   "cell_type": "code",
   "execution_count": null,
   "metadata": {},
   "outputs": [],
   "source": []
  }
 ],
 "metadata": {
  "kernelspec": {
   "display_name": "Python 3",
   "language": "python",
   "name": "python3"
  },
  "language_info": {
   "codemirror_mode": {
    "name": "ipython",
    "version": 3
   },
   "file_extension": ".py",
   "mimetype": "text/x-python",
   "name": "python",
   "nbconvert_exporter": "python",
   "pygments_lexer": "ipython3",
   "version": "3.7.6"
  }
 },
 "nbformat": 4,
 "nbformat_minor": 4
}
