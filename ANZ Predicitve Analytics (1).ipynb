{
 "cells": [
  {
   "cell_type": "code",
   "execution_count": 1,
   "metadata": {},
   "outputs": [],
   "source": [
    "import pandas as pd\n",
    "import numpy as np\n",
    "import seaborn as sns\n",
    "import matplotlib.pyplot as plt\n",
    "sns.set_style('whitegrid')\n",
    "\n",
    "%matplotlib inline"
   ]
  },
  {
   "cell_type": "code",
   "execution_count": 2,
   "metadata": {},
   "outputs": [],
   "source": [
    "pd.set_option('display.max_columns', None)\n",
    "data = pd.read_csv('ANZ.csv')"
   ]
  },
  {
   "cell_type": "code",
   "execution_count": 3,
   "metadata": {},
   "outputs": [
    {
     "data": {
      "text/plain": [
       "(12043, 23)"
      ]
     },
     "execution_count": 3,
     "metadata": {},
     "output_type": "execute_result"
    }
   ],
   "source": [
    "data.shape"
   ]
  },
  {
   "cell_type": "markdown",
   "metadata": {},
   "source": [
    "## Head of Data"
   ]
  },
  {
   "cell_type": "code",
   "execution_count": 4,
   "metadata": {},
   "outputs": [
    {
     "data": {
      "text/html": [
       "<div>\n",
       "<style scoped>\n",
       "    .dataframe tbody tr th:only-of-type {\n",
       "        vertical-align: middle;\n",
       "    }\n",
       "\n",
       "    .dataframe tbody tr th {\n",
       "        vertical-align: top;\n",
       "    }\n",
       "\n",
       "    .dataframe thead th {\n",
       "        text-align: right;\n",
       "    }\n",
       "</style>\n",
       "<table border=\"1\" class=\"dataframe\">\n",
       "  <thead>\n",
       "    <tr style=\"text-align: right;\">\n",
       "      <th></th>\n",
       "      <th>status</th>\n",
       "      <th>card_present_flag</th>\n",
       "      <th>bpay_biller_code</th>\n",
       "      <th>account</th>\n",
       "      <th>currency</th>\n",
       "      <th>long_lat</th>\n",
       "      <th>txn_description</th>\n",
       "      <th>merchant_id</th>\n",
       "      <th>merchant_code</th>\n",
       "      <th>first_name</th>\n",
       "      <th>balance</th>\n",
       "      <th>date</th>\n",
       "      <th>gender</th>\n",
       "      <th>age</th>\n",
       "      <th>merchant_suburb</th>\n",
       "      <th>merchant_state</th>\n",
       "      <th>extraction</th>\n",
       "      <th>amount</th>\n",
       "      <th>transaction_id</th>\n",
       "      <th>country</th>\n",
       "      <th>customer_id</th>\n",
       "      <th>merchant_long_lat</th>\n",
       "      <th>movement</th>\n",
       "    </tr>\n",
       "  </thead>\n",
       "  <tbody>\n",
       "    <tr>\n",
       "      <th>0</th>\n",
       "      <td>authorized</td>\n",
       "      <td>1.0</td>\n",
       "      <td>NaN</td>\n",
       "      <td>ACC-1598451071</td>\n",
       "      <td>AUD</td>\n",
       "      <td>153.41 -27.95</td>\n",
       "      <td>POS</td>\n",
       "      <td>81c48296-73be-44a7-befa-d053f48ce7cd</td>\n",
       "      <td>NaN</td>\n",
       "      <td>Diana</td>\n",
       "      <td>35.39</td>\n",
       "      <td>8/1/2018</td>\n",
       "      <td>F</td>\n",
       "      <td>26</td>\n",
       "      <td>Ashmore</td>\n",
       "      <td>QLD</td>\n",
       "      <td>2018-08-01T01:01:15.000+0000</td>\n",
       "      <td>16.25</td>\n",
       "      <td>a623070bfead4541a6b0fff8a09e706c</td>\n",
       "      <td>Australia</td>\n",
       "      <td>CUS-2487424745</td>\n",
       "      <td>153.38 -27.99</td>\n",
       "      <td>debit</td>\n",
       "    </tr>\n",
       "    <tr>\n",
       "      <th>1</th>\n",
       "      <td>authorized</td>\n",
       "      <td>0.0</td>\n",
       "      <td>NaN</td>\n",
       "      <td>ACC-1598451071</td>\n",
       "      <td>AUD</td>\n",
       "      <td>153.41 -27.95</td>\n",
       "      <td>SALES-POS</td>\n",
       "      <td>830a451c-316e-4a6a-bf25-e37caedca49e</td>\n",
       "      <td>NaN</td>\n",
       "      <td>Diana</td>\n",
       "      <td>21.20</td>\n",
       "      <td>8/1/2018</td>\n",
       "      <td>F</td>\n",
       "      <td>26</td>\n",
       "      <td>Sydney</td>\n",
       "      <td>NSW</td>\n",
       "      <td>2018-08-01T01:13:45.000+0000</td>\n",
       "      <td>14.19</td>\n",
       "      <td>13270a2a902145da9db4c951e04b51b9</td>\n",
       "      <td>Australia</td>\n",
       "      <td>CUS-2487424745</td>\n",
       "      <td>151.21 -33.87</td>\n",
       "      <td>debit</td>\n",
       "    </tr>\n",
       "    <tr>\n",
       "      <th>2</th>\n",
       "      <td>authorized</td>\n",
       "      <td>1.0</td>\n",
       "      <td>NaN</td>\n",
       "      <td>ACC-1222300524</td>\n",
       "      <td>AUD</td>\n",
       "      <td>151.23 -33.94</td>\n",
       "      <td>POS</td>\n",
       "      <td>835c231d-8cdf-4e96-859d-e9d571760cf0</td>\n",
       "      <td>NaN</td>\n",
       "      <td>Michael</td>\n",
       "      <td>5.71</td>\n",
       "      <td>8/1/2018</td>\n",
       "      <td>M</td>\n",
       "      <td>38</td>\n",
       "      <td>Sydney</td>\n",
       "      <td>NSW</td>\n",
       "      <td>2018-08-01T01:26:15.000+0000</td>\n",
       "      <td>6.42</td>\n",
       "      <td>feb79e7ecd7048a5a36ec889d1a94270</td>\n",
       "      <td>Australia</td>\n",
       "      <td>CUS-2142601169</td>\n",
       "      <td>151.21 -33.87</td>\n",
       "      <td>debit</td>\n",
       "    </tr>\n",
       "    <tr>\n",
       "      <th>3</th>\n",
       "      <td>authorized</td>\n",
       "      <td>1.0</td>\n",
       "      <td>NaN</td>\n",
       "      <td>ACC-1037050564</td>\n",
       "      <td>AUD</td>\n",
       "      <td>153.10 -27.66</td>\n",
       "      <td>SALES-POS</td>\n",
       "      <td>48514682-c78a-4a88-b0da-2d6302e64673</td>\n",
       "      <td>NaN</td>\n",
       "      <td>Rhonda</td>\n",
       "      <td>2117.22</td>\n",
       "      <td>8/1/2018</td>\n",
       "      <td>F</td>\n",
       "      <td>40</td>\n",
       "      <td>Buderim</td>\n",
       "      <td>QLD</td>\n",
       "      <td>2018-08-01T01:38:45.000+0000</td>\n",
       "      <td>40.90</td>\n",
       "      <td>2698170da3704fd981b15e64a006079e</td>\n",
       "      <td>Australia</td>\n",
       "      <td>CUS-1614226872</td>\n",
       "      <td>153.05 -26.68</td>\n",
       "      <td>debit</td>\n",
       "    </tr>\n",
       "    <tr>\n",
       "      <th>4</th>\n",
       "      <td>authorized</td>\n",
       "      <td>1.0</td>\n",
       "      <td>NaN</td>\n",
       "      <td>ACC-1598451071</td>\n",
       "      <td>AUD</td>\n",
       "      <td>153.41 -27.95</td>\n",
       "      <td>SALES-POS</td>\n",
       "      <td>b4e02c10-0852-4273-b8fd-7b3395e32eb0</td>\n",
       "      <td>NaN</td>\n",
       "      <td>Diana</td>\n",
       "      <td>17.95</td>\n",
       "      <td>8/1/2018</td>\n",
       "      <td>F</td>\n",
       "      <td>26</td>\n",
       "      <td>Mermaid Beach</td>\n",
       "      <td>QLD</td>\n",
       "      <td>2018-08-01T01:51:15.000+0000</td>\n",
       "      <td>3.25</td>\n",
       "      <td>329adf79878c4cf0aeb4188b4691c266</td>\n",
       "      <td>Australia</td>\n",
       "      <td>CUS-2487424745</td>\n",
       "      <td>153.44 -28.06</td>\n",
       "      <td>debit</td>\n",
       "    </tr>\n",
       "  </tbody>\n",
       "</table>\n",
       "</div>"
      ],
      "text/plain": [
       "       status  card_present_flag bpay_biller_code         account currency  \\\n",
       "0  authorized                1.0              NaN  ACC-1598451071      AUD   \n",
       "1  authorized                0.0              NaN  ACC-1598451071      AUD   \n",
       "2  authorized                1.0              NaN  ACC-1222300524      AUD   \n",
       "3  authorized                1.0              NaN  ACC-1037050564      AUD   \n",
       "4  authorized                1.0              NaN  ACC-1598451071      AUD   \n",
       "\n",
       "        long_lat txn_description                           merchant_id  \\\n",
       "0  153.41 -27.95             POS  81c48296-73be-44a7-befa-d053f48ce7cd   \n",
       "1  153.41 -27.95       SALES-POS  830a451c-316e-4a6a-bf25-e37caedca49e   \n",
       "2  151.23 -33.94             POS  835c231d-8cdf-4e96-859d-e9d571760cf0   \n",
       "3  153.10 -27.66       SALES-POS  48514682-c78a-4a88-b0da-2d6302e64673   \n",
       "4  153.41 -27.95       SALES-POS  b4e02c10-0852-4273-b8fd-7b3395e32eb0   \n",
       "\n",
       "   merchant_code first_name  balance      date gender  age merchant_suburb  \\\n",
       "0            NaN      Diana    35.39  8/1/2018      F   26         Ashmore   \n",
       "1            NaN      Diana    21.20  8/1/2018      F   26          Sydney   \n",
       "2            NaN    Michael     5.71  8/1/2018      M   38          Sydney   \n",
       "3            NaN     Rhonda  2117.22  8/1/2018      F   40         Buderim   \n",
       "4            NaN      Diana    17.95  8/1/2018      F   26   Mermaid Beach   \n",
       "\n",
       "  merchant_state                    extraction  amount  \\\n",
       "0            QLD  2018-08-01T01:01:15.000+0000   16.25   \n",
       "1            NSW  2018-08-01T01:13:45.000+0000   14.19   \n",
       "2            NSW  2018-08-01T01:26:15.000+0000    6.42   \n",
       "3            QLD  2018-08-01T01:38:45.000+0000   40.90   \n",
       "4            QLD  2018-08-01T01:51:15.000+0000    3.25   \n",
       "\n",
       "                     transaction_id    country     customer_id  \\\n",
       "0  a623070bfead4541a6b0fff8a09e706c  Australia  CUS-2487424745   \n",
       "1  13270a2a902145da9db4c951e04b51b9  Australia  CUS-2487424745   \n",
       "2  feb79e7ecd7048a5a36ec889d1a94270  Australia  CUS-2142601169   \n",
       "3  2698170da3704fd981b15e64a006079e  Australia  CUS-1614226872   \n",
       "4  329adf79878c4cf0aeb4188b4691c266  Australia  CUS-2487424745   \n",
       "\n",
       "  merchant_long_lat movement  \n",
       "0     153.38 -27.99    debit  \n",
       "1     151.21 -33.87    debit  \n",
       "2     151.21 -33.87    debit  \n",
       "3     153.05 -26.68    debit  \n",
       "4     153.44 -28.06    debit  "
      ]
     },
     "execution_count": 4,
     "metadata": {},
     "output_type": "execute_result"
    }
   ],
   "source": [
    "data.head()"
   ]
  },
  {
   "cell_type": "markdown",
   "metadata": {},
   "source": [
    "# Data Preparation for Machine Learning"
   ]
  },
  {
   "cell_type": "markdown",
   "metadata": {},
   "source": [
    "## Deriving a Salary Feature"
   ]
  },
  {
   "cell_type": "code",
   "execution_count": 5,
   "metadata": {},
   "outputs": [],
   "source": [
    "data1 = data.copy()"
   ]
  },
  {
   "cell_type": "code",
   "execution_count": 6,
   "metadata": {},
   "outputs": [],
   "source": [
    "g = data1.loc[:, ['customer_id', 'amount', 'txn_description']]"
   ]
  },
  {
   "cell_type": "code",
   "execution_count": 7,
   "metadata": {},
   "outputs": [
    {
     "data": {
      "text/html": [
       "<div>\n",
       "<style scoped>\n",
       "    .dataframe tbody tr th:only-of-type {\n",
       "        vertical-align: middle;\n",
       "    }\n",
       "\n",
       "    .dataframe tbody tr th {\n",
       "        vertical-align: top;\n",
       "    }\n",
       "\n",
       "    .dataframe thead th {\n",
       "        text-align: right;\n",
       "    }\n",
       "</style>\n",
       "<table border=\"1\" class=\"dataframe\">\n",
       "  <thead>\n",
       "    <tr style=\"text-align: right;\">\n",
       "      <th></th>\n",
       "      <th>customer_id</th>\n",
       "      <th>amount</th>\n",
       "    </tr>\n",
       "  </thead>\n",
       "  <tbody>\n",
       "    <tr>\n",
       "      <th>0</th>\n",
       "      <td>CUS-1005756958</td>\n",
       "      <td>970.47</td>\n",
       "    </tr>\n",
       "    <tr>\n",
       "      <th>1</th>\n",
       "      <td>CUS-1117979751</td>\n",
       "      <td>3578.65</td>\n",
       "    </tr>\n",
       "    <tr>\n",
       "      <th>2</th>\n",
       "      <td>CUS-1140341822</td>\n",
       "      <td>1916.51</td>\n",
       "    </tr>\n",
       "    <tr>\n",
       "      <th>3</th>\n",
       "      <td>CUS-1147642491</td>\n",
       "      <td>1711.39</td>\n",
       "    </tr>\n",
       "    <tr>\n",
       "      <th>4</th>\n",
       "      <td>CUS-1196156254</td>\n",
       "      <td>3903.73</td>\n",
       "    </tr>\n",
       "    <tr>\n",
       "      <th>...</th>\n",
       "      <td>...</td>\n",
       "      <td>...</td>\n",
       "    </tr>\n",
       "    <tr>\n",
       "      <th>95</th>\n",
       "      <td>CUS-72755508</td>\n",
       "      <td>725.32</td>\n",
       "    </tr>\n",
       "    <tr>\n",
       "      <th>96</th>\n",
       "      <td>CUS-809013380</td>\n",
       "      <td>1037.07</td>\n",
       "    </tr>\n",
       "    <tr>\n",
       "      <th>97</th>\n",
       "      <td>CUS-860700529</td>\n",
       "      <td>1808.62</td>\n",
       "    </tr>\n",
       "    <tr>\n",
       "      <th>98</th>\n",
       "      <td>CUS-880898248</td>\n",
       "      <td>1433.98</td>\n",
       "    </tr>\n",
       "    <tr>\n",
       "      <th>99</th>\n",
       "      <td>CUS-883482547</td>\n",
       "      <td>3977.46</td>\n",
       "    </tr>\n",
       "  </tbody>\n",
       "</table>\n",
       "<p>100 rows × 2 columns</p>\n",
       "</div>"
      ],
      "text/plain": [
       "       customer_id   amount\n",
       "0   CUS-1005756958   970.47\n",
       "1   CUS-1117979751  3578.65\n",
       "2   CUS-1140341822  1916.51\n",
       "3   CUS-1147642491  1711.39\n",
       "4   CUS-1196156254  3903.73\n",
       "..             ...      ...\n",
       "95    CUS-72755508   725.32\n",
       "96   CUS-809013380  1037.07\n",
       "97   CUS-860700529  1808.62\n",
       "98   CUS-880898248  1433.98\n",
       "99   CUS-883482547  3977.46\n",
       "\n",
       "[100 rows x 2 columns]"
      ]
     },
     "execution_count": 7,
     "metadata": {},
     "output_type": "execute_result"
    }
   ],
   "source": [
    "f = g[g['txn_description'] == 'PAY/SALARY']\n",
    "sal_cust = f.groupby(['customer_id']).mean().reset_index()\n",
    "sal_cust"
   ]
  },
  {
   "cell_type": "code",
   "execution_count": 8,
   "metadata": {},
   "outputs": [],
   "source": [
    "unique_id = list(sal_cust['customer_id'])\n",
    "am = list(sal_cust['amount'])\n",
    "salary = []\n",
    "\n",
    "for i in range(len(data['customer_id'])):\n",
    "    if data['customer_id'][i] in unique_id:\n",
    "        ind = unique_id.index(data['customer_id'][i])\n",
    "        salary.append(am[ind])\n",
    "data['salary'] = salary"
   ]
  },
  {
   "cell_type": "code",
   "execution_count": 9,
   "metadata": {},
   "outputs": [
    {
     "data": {
      "text/html": [
       "<div>\n",
       "<style scoped>\n",
       "    .dataframe tbody tr th:only-of-type {\n",
       "        vertical-align: middle;\n",
       "    }\n",
       "\n",
       "    .dataframe tbody tr th {\n",
       "        vertical-align: top;\n",
       "    }\n",
       "\n",
       "    .dataframe thead th {\n",
       "        text-align: right;\n",
       "    }\n",
       "</style>\n",
       "<table border=\"1\" class=\"dataframe\">\n",
       "  <thead>\n",
       "    <tr style=\"text-align: right;\">\n",
       "      <th></th>\n",
       "      <th>customer_id</th>\n",
       "      <th>amount</th>\n",
       "      <th>salary</th>\n",
       "    </tr>\n",
       "  </thead>\n",
       "  <tbody>\n",
       "    <tr>\n",
       "      <th>0</th>\n",
       "      <td>CUS-1005756958</td>\n",
       "      <td>970.47</td>\n",
       "      <td>970.47</td>\n",
       "    </tr>\n",
       "    <tr>\n",
       "      <th>1</th>\n",
       "      <td>CUS-1117979751</td>\n",
       "      <td>3578.65</td>\n",
       "      <td>3578.65</td>\n",
       "    </tr>\n",
       "    <tr>\n",
       "      <th>2</th>\n",
       "      <td>CUS-1140341822</td>\n",
       "      <td>1916.51</td>\n",
       "      <td>1916.51</td>\n",
       "    </tr>\n",
       "    <tr>\n",
       "      <th>3</th>\n",
       "      <td>CUS-1147642491</td>\n",
       "      <td>1711.39</td>\n",
       "      <td>1711.39</td>\n",
       "    </tr>\n",
       "    <tr>\n",
       "      <th>4</th>\n",
       "      <td>CUS-1196156254</td>\n",
       "      <td>3903.73</td>\n",
       "      <td>3903.73</td>\n",
       "    </tr>\n",
       "    <tr>\n",
       "      <th>...</th>\n",
       "      <td>...</td>\n",
       "      <td>...</td>\n",
       "      <td>...</td>\n",
       "    </tr>\n",
       "    <tr>\n",
       "      <th>95</th>\n",
       "      <td>CUS-72755508</td>\n",
       "      <td>725.32</td>\n",
       "      <td>725.32</td>\n",
       "    </tr>\n",
       "    <tr>\n",
       "      <th>96</th>\n",
       "      <td>CUS-809013380</td>\n",
       "      <td>1037.07</td>\n",
       "      <td>1037.07</td>\n",
       "    </tr>\n",
       "    <tr>\n",
       "      <th>97</th>\n",
       "      <td>CUS-860700529</td>\n",
       "      <td>1808.62</td>\n",
       "      <td>1808.62</td>\n",
       "    </tr>\n",
       "    <tr>\n",
       "      <th>98</th>\n",
       "      <td>CUS-880898248</td>\n",
       "      <td>1433.98</td>\n",
       "      <td>1433.98</td>\n",
       "    </tr>\n",
       "    <tr>\n",
       "      <th>99</th>\n",
       "      <td>CUS-883482547</td>\n",
       "      <td>3977.46</td>\n",
       "      <td>3977.46</td>\n",
       "    </tr>\n",
       "  </tbody>\n",
       "</table>\n",
       "<p>100 rows × 3 columns</p>\n",
       "</div>"
      ],
      "text/plain": [
       "       customer_id   amount   salary\n",
       "0   CUS-1005756958   970.47   970.47\n",
       "1   CUS-1117979751  3578.65  3578.65\n",
       "2   CUS-1140341822  1916.51  1916.51\n",
       "3   CUS-1147642491  1711.39  1711.39\n",
       "4   CUS-1196156254  3903.73  3903.73\n",
       "..             ...      ...      ...\n",
       "95    CUS-72755508   725.32   725.32\n",
       "96   CUS-809013380  1037.07  1037.07\n",
       "97   CUS-860700529  1808.62  1808.62\n",
       "98   CUS-880898248  1433.98  1433.98\n",
       "99   CUS-883482547  3977.46  3977.46\n",
       "\n",
       "[100 rows x 3 columns]"
      ]
     },
     "execution_count": 9,
     "metadata": {},
     "output_type": "execute_result"
    }
   ],
   "source": [
    "## Confirmation\n",
    "\n",
    "g = data.loc[:, ['customer_id', 'amount', 'txn_description', 'salary']]\n",
    "\n",
    "f = g[g['txn_description'] == 'PAY/SALARY']\n",
    "sal_cust = f.groupby(['customer_id']).mean().reset_index()\n",
    "sal_cust"
   ]
  },
  {
   "cell_type": "markdown",
   "metadata": {},
   "source": [
    "## Exploratory Analysis"
   ]
  },
  {
   "cell_type": "code",
   "execution_count": 10,
   "metadata": {},
   "outputs": [
    {
     "data": {
      "image/png": "[encoded data removed]",
      "text/plain": [
       "<Figure size 432x288 with 6 Axes>"
      ]
     },
     "metadata": {
      "needs_background": "light"
     },
     "output_type": "display_data"
    }
   ],
   "source": [
    "# histograms\n",
    "import matplotlib.pyplot as pyplot\n",
    "\n",
    "data.hist(sharex=False, sharey=False, xlabelsize=1, ylabelsize=1)\n",
    "pyplot.show()"
   ]
  },
  {
   "cell_type": "code",
   "execution_count": 11,
   "metadata": {},
   "outputs": [
    {
     "data": {
      "image/png": "[encoded data removed]",
      "text/plain": [
       "<Figure size 432x288 with 8 Axes>"
      ]
     },
     "metadata": {
      "needs_background": "light"
     },
     "output_type": "display_data"
    }
   ],
   "source": [
    "# box and whisker plots\n",
    "data.plot(kind='box', subplots=True, layout=(2,4), sharex=False, sharey=False,\n",
    "fontsize=8)\n",
    "pyplot.show()"
   ]
  },
  {
   "cell_type": "code",
   "execution_count": 12,
   "metadata": {},
   "outputs": [
    {
     "name": "stderr",
     "output_type": "stream",
     "text": [
      "C:\\Users\\vivek\\anaconda3\\lib\\site-packages\\pandas\\plotting\\_matplotlib\\misc.py:80: UserWarning: Attempting to set identical left == right == 0.0 results in singular transformations; automatically expanding.\n",
      "  ax.set_xlim(boundaries_list[j])\n",
      "C:\\Users\\vivek\\anaconda3\\lib\\site-packages\\pandas\\plotting\\_matplotlib\\misc.py:81: UserWarning: Attempting to set identical bottom == top == 0.0 results in singular transformations; automatically expanding.\n",
      "  ax.set_ylim(boundaries_list[i])\n",
      "C:\\Users\\vivek\\anaconda3\\lib\\site-packages\\pandas\\plotting\\_matplotlib\\misc.py:71: UserWarning: Attempting to set identical left == right == 0.0 results in singular transformations; automatically expanding.\n",
      "  ax.set_xlim(boundaries_list[i])\n"
     ]
    },
    {
     "data": {
      "image/png": "[encoded data removed]",
      "text/plain": [
       "<Figure size 720x720 with 36 Axes>"
      ]
     },
     "metadata": {
      "needs_background": "light"
     },
     "output_type": "display_data"
    }
   ],
   "source": [
    "# scatter plot matrix\n",
    "from pandas.plotting import scatter_matrix\n",
    "\n",
    "scatter_matrix(data, figsize = (10,10), alpha = 0.5)\n",
    "pyplot.show()"
   ]
  },
  {
   "cell_type": "code",
   "execution_count": 13,
   "metadata": {},
   "outputs": [],
   "source": [
    "## Pearson Correlation Assumptions:\n",
    "\n",
    "## Variables are Normally Distributed\n",
    "## No Significant Outliers\n",
    "## The relationship between the variables is approximately linear\n",
    "\n",
    "## If assumptions not met, perform nonparametric Spearmans correlation"
   ]
  },
  {
   "cell_type": "code",
   "execution_count": 14,
   "metadata": {},
   "outputs": [
    {
     "name": "stdout",
     "output_type": "stream",
     "text": [
      "amount\n",
      "Statistics=0.320, p=0.000\n",
      "Sample does not look Gaussian (reject H0)\n",
      "---------------------\n",
      "age\n",
      "Statistics=0.900, p=0.000\n",
      "Sample does not look Gaussian (reject H0)\n",
      "---------------------\n",
      "balance\n",
      "Statistics=0.389, p=0.000\n",
      "Sample does not look Gaussian (reject H0)\n",
      "---------------------\n",
      "salary\n",
      "Statistics=0.869, p=0.000\n",
      "Sample does not look Gaussian (reject H0)\n",
      "---------------------\n"
     ]
    },
    {
     "name": "stderr",
     "output_type": "stream",
     "text": [
      "C:\\Users\\vivek\\anaconda3\\lib\\site-packages\\scipy\\stats\\morestats.py:1676: UserWarning: p-value may not be accurate for N > 5000.\n",
      "  warnings.warn(\"p-value may not be accurate for N > 5000.\")\n"
     ]
    }
   ],
   "source": [
    "# example of the shapiro-wilk test\n",
    "from numpy.random import seed\n",
    "from numpy.random import randn\n",
    "from scipy.stats import shapiro\n",
    "\n",
    "cols = ['amount', 'age', 'balance', 'salary']\n",
    "for i in cols:\n",
    "    print(i)\n",
    "    stat, p = shapiro(data[i])\n",
    "    print('Statistics=%.3f, p=%.3f' % (stat, p))\n",
    "    # interpret\n",
    "    alpha = 0.05\n",
    "    if p > alpha:\n",
    "        print('Sample looks Gaussian (fail to reject H0)')\n",
    "    else:\n",
    "        print('Sample does not look Gaussian (reject H0)')\n",
    "    print('---------------------')"
   ]
  },
  {
   "cell_type": "code",
   "execution_count": 15,
   "metadata": {},
   "outputs": [
    {
     "name": "stdout",
     "output_type": "stream",
     "text": [
      "amount\n",
      "Percentiles: 25th=16.000, 75th=53.655, IQR=37.655\n",
      "Identified outliers: 1357\n",
      "Non-outlier observations: 10686\n",
      "----------------------------------------------\n",
      "age\n",
      "Percentiles: 25th=22.000, 75th=38.000, IQR=16.000\n",
      "Identified outliers: 0\n",
      "Non-outlier observations: 12043\n",
      "----------------------------------------------\n",
      "balance\n",
      "Percentiles: 25th=3158.585, 75th=12465.945, IQR=9307.360\n",
      "Identified outliers: 901\n",
      "Non-outlier observations: 11142\n",
      "----------------------------------------------\n",
      "salary\n",
      "Percentiles: 25th=1068.040, 75th=2887.340, IQR=1819.300\n",
      "Identified outliers: 78\n",
      "Non-outlier observations: 11965\n",
      "----------------------------------------------\n"
     ]
    }
   ],
   "source": [
    "# identify outliers with interquartile range\n",
    "from numpy.random import seed\n",
    "from numpy.random import randn\n",
    "from numpy import percentile\n",
    "\n",
    "cols = ['amount', 'age', 'balance', 'salary']\n",
    "\n",
    "# calculate interquartile range\n",
    "for i in cols:\n",
    "    q25, q75 = percentile(data[i], 25), percentile(data[i], 75)\n",
    "    iqr = q75 - q25\n",
    "    print(i)\n",
    "    print('Percentiles: 25th=%.3f, 75th=%.3f, IQR=%.3f' % (q25, q75, iqr))\n",
    "    # calculate the outlier cutoff\n",
    "    cut_off = iqr * 3.0\n",
    "    lower, upper = q25 - cut_off, q75 + cut_off\n",
    "    # identify outliers\n",
    "    outliers = [x for x in data[i] if x < lower or x > upper]\n",
    "    print('Identified outliers: %d' % len(outliers))\n",
    "    # remove outliers\n",
    "    outliers_removed = [x for x in data[i] if x >= lower and x <= upper]\n",
    "    print('Non-outlier observations: %d' % len(outliers_removed))\n",
    "    print('----------------------------------------------')"
   ]
  },
  {
   "cell_type": "code",
   "execution_count": 16,
   "metadata": {
    "scrolled": true
   },
   "outputs": [
    {
     "data": {
      "image/png": "[encoded data removed]",
      "text/plain": [
       "<Figure size 720x432 with 1 Axes>"
      ]
     },
     "metadata": {
      "needs_background": "light"
     },
     "output_type": "display_data"
    },
    {
     "data": {
      "image/png": "[encoded data removed]",
      "text/plain": [
       "<Figure size 720x432 with 1 Axes>"
      ]
     },
     "metadata": {
      "needs_background": "light"
     },
     "output_type": "display_data"
    },
    {
     "data": {
      "image/png": "[encoded data removed]",
      "text/plain": [
       "<Figure size 720x432 with 1 Axes>"
      ]
     },
     "metadata": {
      "needs_background": "light"
     },
     "output_type": "display_data"
    },
    {
     "data": {
      "image/png": "[encoded data removed]",
      "text/plain": [
       "<Figure size 720x432 with 1 Axes>"
      ]
     },
     "metadata": {
      "needs_background": "light"
     },
     "output_type": "display_data"
    },
    {
     "data": {
      "image/png": "[encoded data removed]",
      "text/plain": [
       "<Figure size 720x432 with 1 Axes>"
      ]
     },
     "metadata": {
      "needs_background": "light"
     },
     "output_type": "display_data"
    },
    {
     "data": {
      "image/png": "[encoded data removed]",
      "text/plain": [
       "<Figure size 720x432 with 1 Axes>"
      ]
     },
     "metadata": {
      "needs_background": "light"
     },
     "output_type": "display_data"
    }
   ],
   "source": [
    "## Linearity\n",
    "\n",
    "cols = ['age', 'amount', 'balance', 'salary']\n",
    "combo = []\n",
    "for i in range(len(cols)):\n",
    "    for j in range(i+1, len(cols)):\n",
    "        combo.append((i,j))\n",
    "\n",
    "for i in range(len(combo)):\n",
    "    plt.figure(figsize = (10,6))\n",
    "    sns.scatterplot(data=data, x=cols[combo[i][0]], y=cols[combo[i][1]])"
   ]
  },
  {
   "cell_type": "code",
   "execution_count": 17,
   "metadata": {},
   "outputs": [
    {
     "name": "stdout",
     "output_type": "stream",
     "text": [
      "age vs amount\n",
      "Spearmans correlation coefficient: 0.115\n",
      "Samples are correlated (reject H0) p=0.000\n",
      "--------------------------------------------\n",
      "age vs balance\n",
      "Spearmans correlation coefficient: 0.109\n",
      "Samples are correlated (reject H0) p=0.000\n",
      "--------------------------------------------\n",
      "age vs salary\n",
      "Spearmans correlation coefficient: -0.074\n",
      "Samples are correlated (reject H0) p=0.000\n",
      "--------------------------------------------\n",
      "amount vs balance\n",
      "Spearmans correlation coefficient: 0.221\n",
      "Samples are correlated (reject H0) p=0.000\n",
      "--------------------------------------------\n",
      "amount vs salary\n",
      "Spearmans correlation coefficient: 0.101\n",
      "Samples are correlated (reject H0) p=0.000\n",
      "--------------------------------------------\n",
      "balance vs salary\n",
      "Spearmans correlation coefficient: 0.508\n",
      "Samples are correlated (reject H0) p=0.000\n",
      "--------------------------------------------\n"
     ]
    }
   ],
   "source": [
    "# Calculate the spearman's correlation between two variables\n",
    "from numpy.random import rand\n",
    "from numpy.random import seed\n",
    "from scipy.stats import spearmanr\n",
    "\n",
    "cols = ['age', 'amount', 'balance', 'salary']\n",
    "combo = []\n",
    "for i in range(len(cols)):\n",
    "    for j in range(i+1, len(cols)):\n",
    "        combo.append((i,j))\n",
    "\n",
    "# calculate spearman's correlation\n",
    "for i in range(len(combo)):\n",
    "    print(cols[combo[i][0]]+' vs '+cols[combo[i][1]])\n",
    "    coef, p = spearmanr(data[cols[combo[i][0]]], data[cols[combo[i][1]]])\n",
    "    print('Spearmans correlation coefficient: %.3f' % coef)\n",
    "\n",
    "    # interpret the significance\n",
    "    alpha = 0.05\n",
    "    if p > alpha:\n",
    "        print('Samples are uncorrelated (fail to reject H0) p=%.3f' % p)\n",
    "    else:\n",
    "        print('Samples are correlated (reject H0) p=%.3f' % p)\n",
    "    \n",
    "    print('--------------------------------------------')"
   ]
  },
  {
   "cell_type": "markdown",
   "metadata": {},
   "source": [
    "## Regression"
   ]
  },
  {
   "cell_type": "markdown",
   "metadata": {},
   "source": [
    "### Delete columns that contain a single value"
   ]
  },
  {
   "cell_type": "code",
   "execution_count": 18,
   "metadata": {},
   "outputs": [
    {
     "name": "stdout",
     "output_type": "stream",
     "text": [
      "['currency', 'merchant_code', 'country']\n",
      "(12043, 21)\n"
     ]
    }
   ],
   "source": [
    "# get number of unique values for each column\n",
    "counts = data.nunique()\n",
    "# record columns to delete\n",
    "to_del = [i for i,v in enumerate(counts) if v == 1]\n",
    "cols = []\n",
    "for i in to_del:\n",
    "    cols.append(data.columns[i])\n",
    "print(cols)\n",
    "# drop useless columns\n",
    "data.drop(cols, axis=1, inplace=True)\n",
    "print(data.shape)"
   ]
  },
  {
   "cell_type": "markdown",
   "metadata": {},
   "source": [
    "### Null value inspection"
   ]
  },
  {
   "cell_type": "code",
   "execution_count": 19,
   "metadata": {},
   "outputs": [
    {
     "data": {
      "text/plain": [
       "status               0.000000\n",
       "card_present_flag    0.359213\n",
       "bpay_biller_code     0.926513\n",
       "account              0.000000\n",
       "long_lat             0.000000\n",
       "txn_description      0.000000\n",
       "merchant_id          0.359213\n",
       "first_name           0.000000\n",
       "balance              0.000000\n",
       "date                 0.000000\n",
       "gender               0.000000\n",
       "age                  0.000000\n",
       "merchant_suburb      0.359213\n",
       "merchant_state       0.359213\n",
       "extraction           0.000000\n",
       "amount               0.000000\n",
       "transaction_id       0.000000\n",
       "customer_id          0.000000\n",
       "merchant_long_lat    0.359213\n",
       "movement             0.000000\n",
       "salary               0.000000\n",
       "dtype: float64"
      ]
     },
     "execution_count": 19,
     "metadata": {},
     "output_type": "execute_result"
    }
   ],
   "source": [
    "data.isnull().mean()"
   ]
  },
  {
   "cell_type": "code",
   "execution_count": 20,
   "metadata": {},
   "outputs": [
    {
     "name": "stdout",
     "output_type": "stream",
     "text": [
      "(12043, 20)\n"
     ]
    }
   ],
   "source": [
    "thresh = 0.40\n",
    "cols = list(data.columns)\n",
    "to_drop = []\n",
    "\n",
    "for i in range(len(cols)):\n",
    "    if data[cols[i]].isnull().mean() > thresh:\n",
    "        to_drop.append(cols[i])\n",
    "data.drop(to_drop, axis = 1,inplace=True)\n",
    "print(data.shape)"
   ]
  },
  {
   "cell_type": "markdown",
   "metadata": {},
   "source": [
    "### Drop Usless Variables"
   ]
  },
  {
   "cell_type": "code",
   "execution_count": 21,
   "metadata": {},
   "outputs": [
    {
     "data": {
      "text/plain": [
       "(12043, 13)"
      ]
     },
     "execution_count": 21,
     "metadata": {},
     "output_type": "execute_result"
    }
   ],
   "source": [
    "drop = ['merchant_id', 'first_name', 'account', 'extraction', 'transaction_id', 'customer_id', 'merchant_suburb']\n",
    "data.drop(drop, axis = 1, inplace=True)\n",
    "data.shape"
   ]
  },
  {
   "cell_type": "markdown",
   "metadata": {},
   "source": [
    "### Convert coordinates into separate columns"
   ]
  },
  {
   "cell_type": "code",
   "execution_count": 22,
   "metadata": {},
   "outputs": [],
   "source": [
    "long_lat = list(data['long_lat'])\n",
    "\n",
    "l = []\n",
    "long = []\n",
    "lat = []\n",
    "for i in range(len(long_lat)):\n",
    "    tup = tuple(long_lat[i].split('-'))\n",
    "    l.append(tup)\n",
    "    long.append(l[i][0].replace(' ', ''))\n",
    "    lat.append(l[i][1])\n",
    "data['long'] = long\n",
    "data['lat'] = lat\n",
    "\n",
    "data.drop('long_lat', inplace = True, axis = 1)"
   ]
  },
  {
   "cell_type": "code",
   "execution_count": 23,
   "metadata": {},
   "outputs": [],
   "source": [
    "data['long'] = data['long'].astype(float)\n",
    "data['lat'] = data['lat'].astype(float)"
   ]
  },
  {
   "cell_type": "code",
   "execution_count": 24,
   "metadata": {},
   "outputs": [
    {
     "data": {
      "text/plain": [
       "(12043, 14)"
      ]
     },
     "execution_count": 24,
     "metadata": {},
     "output_type": "execute_result"
    }
   ],
   "source": [
    "data.shape"
   ]
  },
  {
   "cell_type": "code",
   "execution_count": 25,
   "metadata": {},
   "outputs": [],
   "source": [
    "data = data[data['merchant_long_lat'].notna()]"
   ]
  },
  {
   "cell_type": "code",
   "execution_count": 26,
   "metadata": {},
   "outputs": [
    {
     "data": {
      "text/plain": [
       "(7717, 14)"
      ]
     },
     "execution_count": 26,
     "metadata": {},
     "output_type": "execute_result"
    }
   ],
   "source": [
    "data.shape"
   ]
  },
  {
   "cell_type": "code",
   "execution_count": 27,
   "metadata": {},
   "outputs": [
    {
     "name": "stderr",
     "output_type": "stream",
     "text": [
      "C:\\Users\\vivek\\anaconda3\\lib\\site-packages\\ipykernel_launcher.py:11: SettingWithCopyWarning: \n",
      "A value is trying to be set on a copy of a slice from a DataFrame.\n",
      "Try using .loc[row_indexer,col_indexer] = value instead\n",
      "\n",
      "See the caveats in the documentation: https://pandas.pydata.org/pandas-docs/stable/user_guide/indexing.html#returning-a-view-versus-a-copy\n",
      "  # This is added back by InteractiveShellApp.init_path()\n",
      "C:\\Users\\vivek\\anaconda3\\lib\\site-packages\\ipykernel_launcher.py:12: SettingWithCopyWarning: \n",
      "A value is trying to be set on a copy of a slice from a DataFrame.\n",
      "Try using .loc[row_indexer,col_indexer] = value instead\n",
      "\n",
      "See the caveats in the documentation: https://pandas.pydata.org/pandas-docs/stable/user_guide/indexing.html#returning-a-view-versus-a-copy\n",
      "  if sys.path[0] == '':\n",
      "C:\\Users\\vivek\\anaconda3\\lib\\site-packages\\pandas\\core\\frame.py:3997: SettingWithCopyWarning: \n",
      "A value is trying to be set on a copy of a slice from a DataFrame\n",
      "\n",
      "See the caveats in the documentation: https://pandas.pydata.org/pandas-docs/stable/user_guide/indexing.html#returning-a-view-versus-a-copy\n",
      "  errors=errors,\n"
     ]
    }
   ],
   "source": [
    "m_long_lat = list(data['merchant_long_lat'])\n",
    "\n",
    "g = []\n",
    "m_long = []\n",
    "m_lat = []\n",
    "for i in range(len(m_long_lat)):\n",
    "    tup = tuple(m_long_lat[i].split('-'))\n",
    "    g.append(tup)\n",
    "    m_long.append(g[i][0].replace(' ', ''))\n",
    "    m_lat.append(g[i][1])\n",
    "data['m_long'] = m_long\n",
    "data['m_lat'] = m_lat\n",
    "\n",
    "data.drop('merchant_long_lat', inplace = True, axis = 1)"
   ]
  },
  {
   "cell_type": "code",
   "execution_count": 28,
   "metadata": {},
   "outputs": [
    {
     "data": {
      "text/html": [
       "<div>\n",
       "<style scoped>\n",
       "    .dataframe tbody tr th:only-of-type {\n",
       "        vertical-align: middle;\n",
       "    }\n",
       "\n",
       "    .dataframe tbody tr th {\n",
       "        vertical-align: top;\n",
       "    }\n",
       "\n",
       "    .dataframe thead th {\n",
       "        text-align: right;\n",
       "    }\n",
       "</style>\n",
       "<table border=\"1\" class=\"dataframe\">\n",
       "  <thead>\n",
       "    <tr style=\"text-align: right;\">\n",
       "      <th></th>\n",
       "      <th>status</th>\n",
       "      <th>card_present_flag</th>\n",
       "      <th>txn_description</th>\n",
       "      <th>balance</th>\n",
       "      <th>date</th>\n",
       "      <th>gender</th>\n",
       "      <th>age</th>\n",
       "      <th>merchant_state</th>\n",
       "      <th>amount</th>\n",
       "      <th>movement</th>\n",
       "      <th>salary</th>\n",
       "      <th>long</th>\n",
       "      <th>lat</th>\n",
       "      <th>m_long</th>\n",
       "      <th>m_lat</th>\n",
       "    </tr>\n",
       "  </thead>\n",
       "  <tbody>\n",
       "    <tr>\n",
       "      <th>0</th>\n",
       "      <td>authorized</td>\n",
       "      <td>1.0</td>\n",
       "      <td>POS</td>\n",
       "      <td>35.39</td>\n",
       "      <td>8/1/2018</td>\n",
       "      <td>F</td>\n",
       "      <td>26</td>\n",
       "      <td>QLD</td>\n",
       "      <td>16.25</td>\n",
       "      <td>debit</td>\n",
       "      <td>1013.67</td>\n",
       "      <td>153.41</td>\n",
       "      <td>27.95</td>\n",
       "      <td>153.38</td>\n",
       "      <td>27.99</td>\n",
       "    </tr>\n",
       "    <tr>\n",
       "      <th>1</th>\n",
       "      <td>authorized</td>\n",
       "      <td>0.0</td>\n",
       "      <td>SALES-POS</td>\n",
       "      <td>21.20</td>\n",
       "      <td>8/1/2018</td>\n",
       "      <td>F</td>\n",
       "      <td>26</td>\n",
       "      <td>NSW</td>\n",
       "      <td>14.19</td>\n",
       "      <td>debit</td>\n",
       "      <td>1013.67</td>\n",
       "      <td>153.41</td>\n",
       "      <td>27.95</td>\n",
       "      <td>151.21</td>\n",
       "      <td>33.87</td>\n",
       "    </tr>\n",
       "    <tr>\n",
       "      <th>2</th>\n",
       "      <td>authorized</td>\n",
       "      <td>1.0</td>\n",
       "      <td>POS</td>\n",
       "      <td>5.71</td>\n",
       "      <td>8/1/2018</td>\n",
       "      <td>M</td>\n",
       "      <td>38</td>\n",
       "      <td>NSW</td>\n",
       "      <td>6.42</td>\n",
       "      <td>debit</td>\n",
       "      <td>1002.13</td>\n",
       "      <td>151.23</td>\n",
       "      <td>33.94</td>\n",
       "      <td>151.21</td>\n",
       "      <td>33.87</td>\n",
       "    </tr>\n",
       "    <tr>\n",
       "      <th>3</th>\n",
       "      <td>authorized</td>\n",
       "      <td>1.0</td>\n",
       "      <td>SALES-POS</td>\n",
       "      <td>2117.22</td>\n",
       "      <td>8/1/2018</td>\n",
       "      <td>F</td>\n",
       "      <td>40</td>\n",
       "      <td>QLD</td>\n",
       "      <td>40.90</td>\n",
       "      <td>debit</td>\n",
       "      <td>892.09</td>\n",
       "      <td>153.10</td>\n",
       "      <td>27.66</td>\n",
       "      <td>153.05</td>\n",
       "      <td>26.68</td>\n",
       "    </tr>\n",
       "    <tr>\n",
       "      <th>4</th>\n",
       "      <td>authorized</td>\n",
       "      <td>1.0</td>\n",
       "      <td>SALES-POS</td>\n",
       "      <td>17.95</td>\n",
       "      <td>8/1/2018</td>\n",
       "      <td>F</td>\n",
       "      <td>26</td>\n",
       "      <td>QLD</td>\n",
       "      <td>3.25</td>\n",
       "      <td>debit</td>\n",
       "      <td>1013.67</td>\n",
       "      <td>153.41</td>\n",
       "      <td>27.95</td>\n",
       "      <td>153.44</td>\n",
       "      <td>28.06</td>\n",
       "    </tr>\n",
       "  </tbody>\n",
       "</table>\n",
       "</div>"
      ],
      "text/plain": [
       "       status  card_present_flag txn_description  balance      date gender  \\\n",
       "0  authorized                1.0             POS    35.39  8/1/2018      F   \n",
       "1  authorized                0.0       SALES-POS    21.20  8/1/2018      F   \n",
       "2  authorized                1.0             POS     5.71  8/1/2018      M   \n",
       "3  authorized                1.0       SALES-POS  2117.22  8/1/2018      F   \n",
       "4  authorized                1.0       SALES-POS    17.95  8/1/2018      F   \n",
       "\n",
       "   age merchant_state  amount movement   salary    long    lat  m_long  m_lat  \n",
       "0   26            QLD   16.25    debit  1013.67  153.41  27.95  153.38  27.99  \n",
       "1   26            NSW   14.19    debit  1013.67  153.41  27.95  151.21  33.87  \n",
       "2   38            NSW    6.42    debit  1002.13  151.23  33.94  151.21  33.87  \n",
       "3   40            QLD   40.90    debit   892.09  153.10  27.66  153.05  26.68  \n",
       "4   26            QLD    3.25    debit  1013.67  153.41  27.95  153.44  28.06  "
      ]
     },
     "execution_count": 28,
     "metadata": {},
     "output_type": "execute_result"
    }
   ],
   "source": [
    "data.head()"
   ]
  },
  {
   "cell_type": "markdown",
   "metadata": {},
   "source": [
    "### Convert date into separate date-time values"
   ]
  },
  {
   "cell_type": "code",
   "execution_count": 29,
   "metadata": {},
   "outputs": [
    {
     "name": "stderr",
     "output_type": "stream",
     "text": [
      "C:\\Users\\vivek\\anaconda3\\lib\\site-packages\\ipykernel_launcher.py:1: SettingWithCopyWarning: \n",
      "A value is trying to be set on a copy of a slice from a DataFrame.\n",
      "Try using .loc[row_indexer,col_indexer] = value instead\n",
      "\n",
      "See the caveats in the documentation: https://pandas.pydata.org/pandas-docs/stable/user_guide/indexing.html#returning-a-view-versus-a-copy\n",
      "  \"\"\"Entry point for launching an IPython kernel.\n"
     ]
    }
   ],
   "source": [
    "data['date'] = pd.to_datetime(data['date'])"
   ]
  },
  {
   "cell_type": "code",
   "execution_count": 30,
   "metadata": {},
   "outputs": [
    {
     "name": "stderr",
     "output_type": "stream",
     "text": [
      "C:\\Users\\vivek\\anaconda3\\lib\\site-packages\\ipykernel_launcher.py:1: SettingWithCopyWarning: \n",
      "A value is trying to be set on a copy of a slice from a DataFrame.\n",
      "Try using .loc[row_indexer,col_indexer] = value instead\n",
      "\n",
      "See the caveats in the documentation: https://pandas.pydata.org/pandas-docs/stable/user_guide/indexing.html#returning-a-view-versus-a-copy\n",
      "  \"\"\"Entry point for launching an IPython kernel.\n",
      "C:\\Users\\vivek\\anaconda3\\lib\\site-packages\\ipykernel_launcher.py:2: SettingWithCopyWarning: \n",
      "A value is trying to be set on a copy of a slice from a DataFrame.\n",
      "Try using .loc[row_indexer,col_indexer] = value instead\n",
      "\n",
      "See the caveats in the documentation: https://pandas.pydata.org/pandas-docs/stable/user_guide/indexing.html#returning-a-view-versus-a-copy\n",
      "  \n",
      "C:\\Users\\vivek\\anaconda3\\lib\\site-packages\\ipykernel_launcher.py:3: SettingWithCopyWarning: \n",
      "A value is trying to be set on a copy of a slice from a DataFrame.\n",
      "Try using .loc[row_indexer,col_indexer] = value instead\n",
      "\n",
      "See the caveats in the documentation: https://pandas.pydata.org/pandas-docs/stable/user_guide/indexing.html#returning-a-view-versus-a-copy\n",
      "  This is separate from the ipykernel package so we can avoid doing imports until\n"
     ]
    }
   ],
   "source": [
    "data['year'] = pd.DatetimeIndex(data['date']).year\n",
    "data['month'] = pd.DatetimeIndex(data['date']).month\n",
    "data['day'] = pd.DatetimeIndex(data['date']).day"
   ]
  },
  {
   "cell_type": "code",
   "execution_count": 31,
   "metadata": {},
   "outputs": [
    {
     "name": "stderr",
     "output_type": "stream",
     "text": [
      "C:\\Users\\vivek\\anaconda3\\lib\\site-packages\\pandas\\core\\frame.py:3997: SettingWithCopyWarning: \n",
      "A value is trying to be set on a copy of a slice from a DataFrame\n",
      "\n",
      "See the caveats in the documentation: https://pandas.pydata.org/pandas-docs/stable/user_guide/indexing.html#returning-a-view-versus-a-copy\n",
      "  errors=errors,\n"
     ]
    }
   ],
   "source": [
    "data.drop('date', inplace = True, axis = 1)"
   ]
  },
  {
   "cell_type": "code",
   "execution_count": 32,
   "metadata": {},
   "outputs": [
    {
     "data": {
      "text/plain": [
       "Index(['status', 'card_present_flag', 'txn_description', 'balance', 'gender',\n",
       "       'age', 'merchant_state', 'amount', 'movement', 'salary', 'long', 'lat',\n",
       "       'm_long', 'm_lat', 'year', 'month', 'day'],\n",
       "      dtype='object')"
      ]
     },
     "execution_count": 32,
     "metadata": {},
     "output_type": "execute_result"
    }
   ],
   "source": [
    "data.columns"
   ]
  },
  {
   "cell_type": "code",
   "execution_count": 33,
   "metadata": {},
   "outputs": [],
   "source": [
    "data = data[['status', 'card_present_flag', 'txn_description', 'balance', 'gender',\n",
    "       'age', 'merchant_state', 'amount', 'movement', 'long', 'lat',\n",
    "       'm_long', 'm_lat', 'year', 'month', 'day', 'salary']]"
   ]
  },
  {
   "cell_type": "code",
   "execution_count": 34,
   "metadata": {
    "scrolled": false
   },
   "outputs": [
    {
     "data": {
      "text/html": [
       "<div>\n",
       "<style scoped>\n",
       "    .dataframe tbody tr th:only-of-type {\n",
       "        vertical-align: middle;\n",
       "    }\n",
       "\n",
       "    .dataframe tbody tr th {\n",
       "        vertical-align: top;\n",
       "    }\n",
       "\n",
       "    .dataframe thead th {\n",
       "        text-align: right;\n",
       "    }\n",
       "</style>\n",
       "<table border=\"1\" class=\"dataframe\">\n",
       "  <thead>\n",
       "    <tr style=\"text-align: right;\">\n",
       "      <th></th>\n",
       "      <th>status</th>\n",
       "      <th>card_present_flag</th>\n",
       "      <th>txn_description</th>\n",
       "      <th>balance</th>\n",
       "      <th>gender</th>\n",
       "      <th>age</th>\n",
       "      <th>merchant_state</th>\n",
       "      <th>amount</th>\n",
       "      <th>movement</th>\n",
       "      <th>long</th>\n",
       "      <th>lat</th>\n",
       "      <th>m_long</th>\n",
       "      <th>m_lat</th>\n",
       "      <th>year</th>\n",
       "      <th>month</th>\n",
       "      <th>day</th>\n",
       "      <th>salary</th>\n",
       "    </tr>\n",
       "  </thead>\n",
       "  <tbody>\n",
       "    <tr>\n",
       "      <th>0</th>\n",
       "      <td>authorized</td>\n",
       "      <td>1.0</td>\n",
       "      <td>POS</td>\n",
       "      <td>35.39</td>\n",
       "      <td>F</td>\n",
       "      <td>26</td>\n",
       "      <td>QLD</td>\n",
       "      <td>16.25</td>\n",
       "      <td>debit</td>\n",
       "      <td>153.41</td>\n",
       "      <td>27.95</td>\n",
       "      <td>153.38</td>\n",
       "      <td>27.99</td>\n",
       "      <td>2018</td>\n",
       "      <td>8</td>\n",
       "      <td>1</td>\n",
       "      <td>1013.67</td>\n",
       "    </tr>\n",
       "    <tr>\n",
       "      <th>1</th>\n",
       "      <td>authorized</td>\n",
       "      <td>0.0</td>\n",
       "      <td>SALES-POS</td>\n",
       "      <td>21.20</td>\n",
       "      <td>F</td>\n",
       "      <td>26</td>\n",
       "      <td>NSW</td>\n",
       "      <td>14.19</td>\n",
       "      <td>debit</td>\n",
       "      <td>153.41</td>\n",
       "      <td>27.95</td>\n",
       "      <td>151.21</td>\n",
       "      <td>33.87</td>\n",
       "      <td>2018</td>\n",
       "      <td>8</td>\n",
       "      <td>1</td>\n",
       "      <td>1013.67</td>\n",
       "    </tr>\n",
       "    <tr>\n",
       "      <th>2</th>\n",
       "      <td>authorized</td>\n",
       "      <td>1.0</td>\n",
       "      <td>POS</td>\n",
       "      <td>5.71</td>\n",
       "      <td>M</td>\n",
       "      <td>38</td>\n",
       "      <td>NSW</td>\n",
       "      <td>6.42</td>\n",
       "      <td>debit</td>\n",
       "      <td>151.23</td>\n",
       "      <td>33.94</td>\n",
       "      <td>151.21</td>\n",
       "      <td>33.87</td>\n",
       "      <td>2018</td>\n",
       "      <td>8</td>\n",
       "      <td>1</td>\n",
       "      <td>1002.13</td>\n",
       "    </tr>\n",
       "    <tr>\n",
       "      <th>3</th>\n",
       "      <td>authorized</td>\n",
       "      <td>1.0</td>\n",
       "      <td>SALES-POS</td>\n",
       "      <td>2117.22</td>\n",
       "      <td>F</td>\n",
       "      <td>40</td>\n",
       "      <td>QLD</td>\n",
       "      <td>40.90</td>\n",
       "      <td>debit</td>\n",
       "      <td>153.10</td>\n",
       "      <td>27.66</td>\n",
       "      <td>153.05</td>\n",
       "      <td>26.68</td>\n",
       "      <td>2018</td>\n",
       "      <td>8</td>\n",
       "      <td>1</td>\n",
       "      <td>892.09</td>\n",
       "    </tr>\n",
       "    <tr>\n",
       "      <th>4</th>\n",
       "      <td>authorized</td>\n",
       "      <td>1.0</td>\n",
       "      <td>SALES-POS</td>\n",
       "      <td>17.95</td>\n",
       "      <td>F</td>\n",
       "      <td>26</td>\n",
       "      <td>QLD</td>\n",
       "      <td>3.25</td>\n",
       "      <td>debit</td>\n",
       "      <td>153.41</td>\n",
       "      <td>27.95</td>\n",
       "      <td>153.44</td>\n",
       "      <td>28.06</td>\n",
       "      <td>2018</td>\n",
       "      <td>8</td>\n",
       "      <td>1</td>\n",
       "      <td>1013.67</td>\n",
       "    </tr>\n",
       "  </tbody>\n",
       "</table>\n",
       "</div>"
      ],
      "text/plain": [
       "       status  card_present_flag txn_description  balance gender  age  \\\n",
       "0  authorized                1.0             POS    35.39      F   26   \n",
       "1  authorized                0.0       SALES-POS    21.20      F   26   \n",
       "2  authorized                1.0             POS     5.71      M   38   \n",
       "3  authorized                1.0       SALES-POS  2117.22      F   40   \n",
       "4  authorized                1.0       SALES-POS    17.95      F   26   \n",
       "\n",
       "  merchant_state  amount movement    long    lat  m_long  m_lat  year  month  \\\n",
       "0            QLD   16.25    debit  153.41  27.95  153.38  27.99  2018      8   \n",
       "1            NSW   14.19    debit  153.41  27.95  151.21  33.87  2018      8   \n",
       "2            NSW    6.42    debit  151.23  33.94  151.21  33.87  2018      8   \n",
       "3            QLD   40.90    debit  153.10  27.66  153.05  26.68  2018      8   \n",
       "4            QLD    3.25    debit  153.41  27.95  153.44  28.06  2018      8   \n",
       "\n",
       "   day   salary  \n",
       "0    1  1013.67  \n",
       "1    1  1013.67  \n",
       "2    1  1002.13  \n",
       "3    1   892.09  \n",
       "4    1  1013.67  "
      ]
     },
     "execution_count": 34,
     "metadata": {},
     "output_type": "execute_result"
    }
   ],
   "source": [
    "data.head()"
   ]
  },
  {
   "cell_type": "code",
   "execution_count": 35,
   "metadata": {},
   "outputs": [],
   "source": [
    "#data.to_csv('final_copy.csv')"
   ]
  },
  {
   "cell_type": "markdown",
   "metadata": {},
   "source": [
    "## Libraries"
   ]
  },
  {
   "cell_type": "code",
   "execution_count": 36,
   "metadata": {},
   "outputs": [],
   "source": [
    "from numpy import mean\n",
    "import numpy as np\n",
    "from numpy import std\n",
    "from pandas import read_csv\n",
    "from matplotlib import pyplot\n",
    "from sklearn.preprocessing import OneHotEncoder\n",
    "from sklearn.pipeline import Pipeline\n",
    "from sklearn.compose import ColumnTransformer\n",
    "from sklearn.model_selection import cross_val_score\n",
    "from sklearn.model_selection import KFold\n",
    "from sklearn.model_selection import RepeatedStratifiedKFold\n",
    "from sklearn.preprocessing import StandardScaler\n",
    "from sklearn.preprocessing import MinMaxScaler\n",
    "from sklearn.decomposition import PCA\n",
    "from sklearn.linear_model import LinearRegression\n",
    "from sklearn.tree import DecisionTreeRegressor\n",
    "from sklearn.linear_model import Lasso\n",
    "from sklearn.linear_model import ElasticNet\n",
    "from sklearn.neighbors import KNeighborsRegressor\n",
    "from sklearn.svm import SVR\n",
    "from sklearn.impute import SimpleImputer\n",
    "from sklearn.preprocessing import PowerTransformer\n",
    "from numpy import arange\n",
    "from pandas import set_option\n",
    "from sklearn.model_selection import GridSearchCV\n",
    "from sklearn.ensemble import RandomForestRegressor\n",
    "from sklearn.ensemble import GradientBoostingRegressor\n",
    "from sklearn.ensemble import ExtraTreesRegressor\n",
    "from sklearn.ensemble import AdaBoostRegressor"
   ]
  },
  {
   "cell_type": "markdown",
   "metadata": {},
   "source": [
    "## Scenario 1: Standard Scaler, Power Transform, PCA"
   ]
  },
  {
   "cell_type": "markdown",
   "metadata": {},
   "source": [
    "### Standard Machine Learning Algorithms"
   ]
  },
  {
   "cell_type": "code",
   "execution_count": 37,
   "metadata": {},
   "outputs": [
    {
     "name": "stdout",
     "output_type": "stream",
     "text": [
      ">LR 0.235 (0.025)\n",
      ">CART 0.470 (0.059)\n",
      ">Lasso 0.235 (0.025)\n",
      ">EN 0.209 (0.014)\n",
      ">KNN 0.556 (0.036)\n",
      ">SVR -0.013 (0.016)\n"
     ]
    },
    {
     "data": {
      "image/png": "[encoded data removed]",
      "text/plain": [
       "<Figure size 720x360 with 1 Axes>"
      ]
     },
     "metadata": {
      "needs_background": "light"
     },
     "output_type": "display_data"
    }
   ],
   "source": [
    "# load the dataset\n",
    "def dataset(full_path):\n",
    "    # load the dataset as a numpy array\n",
    "    dataframe = read_csv(full_path, header=None, skiprows=1)\n",
    "    # split into inputs and outputs\n",
    "    last_ix = len(dataframe.columns) - 1\n",
    "    X, y = dataframe.drop(last_ix, axis=1), dataframe[last_ix]\n",
    "    # select categorical and numerical features\n",
    "    cat_ix = X.select_dtypes(include=['object', 'bool']).columns\n",
    "    num_ix = X.select_dtypes(include=['int64', 'float64']).columns\n",
    "    return X.values, y, cat_ix, num_ix\n",
    "\n",
    "# evaluate a model\n",
    "def evaluate(X, y, model):\n",
    "    # define evaluation procedure\n",
    "    cv = KFold(n_splits=10, random_state=7, shuffle=True)\n",
    "    # evaluate model\n",
    "    scores = cross_val_score(model, X, y, scoring='r2', cv=cv, n_jobs=-1)\n",
    "    return scores\n",
    "\n",
    "# define models to test\n",
    "def get_models():\n",
    "    models, names = list(), list()\n",
    "    # LR\n",
    "    models.append(LinearRegression())\n",
    "    names.append('LR')\n",
    "    # CART\n",
    "    models.append(DecisionTreeRegressor())\n",
    "    names.append('CART')\n",
    "    # Lasso\n",
    "    models.append(Lasso())\n",
    "    names.append('Lasso')\n",
    "    # EN\n",
    "    models.append(ElasticNet())\n",
    "    names.append('EN')\n",
    "    # KNN\n",
    "    models.append(KNeighborsRegressor())\n",
    "    names.append('KNN')\n",
    "    # SVR\n",
    "    models.append(SVR())\n",
    "    names.append('SVR')\n",
    "    return models, names\n",
    "\n",
    "# define the location of the dataset\n",
    "full_path = 'final.csv'\n",
    "# load the dataset\n",
    "X, y, cat_ix, num_ix = dataset(full_path)\n",
    "# define models\n",
    "models, names = get_models()\n",
    "results = list()\n",
    "\n",
    "# evaluate each model\n",
    "for i in range(len(models)):\n",
    "    # wrap the model in a pipeline\n",
    "    ct = ColumnTransformer([('c',OneHotEncoder(drop = 'first'),cat_ix), ('n',StandardScaler(),num_ix)])\n",
    "    pca = PCA(n_components = 0.95)    \n",
    "    pipeline = Pipeline(steps=[('t', ct),('p', PowerTransformer()),('h', pca),('m',models[i])])\n",
    "    # evaluate the model and store results\n",
    "    scores = evaluate(X, y, pipeline)\n",
    "    results.append(scores)\n",
    "    # summarize and store\n",
    "    print('>%s %.3f (%.3f)' % (names[i], mean(scores), std(scores)))\n",
    "\n",
    "# plot the results\n",
    "\n",
    "pyplot.figure(figsize = (10,5))\n",
    "pyplot.boxplot(results, labels=names, showmeans=True)\n",
    "pyplot.grid()\n",
    "pyplot.show()"
   ]
  },
  {
   "cell_type": "markdown",
   "metadata": {},
   "source": [
    "### KNN Tuning"
   ]
  },
  {
   "cell_type": "code",
   "execution_count": 38,
   "metadata": {},
   "outputs": [
    {
     "name": "stdout",
     "output_type": "stream",
     "text": [
      ">k=1 0.490 (0.034)\n",
      ">k=2 0.555 (0.031)\n",
      ">k=3 0.564 (0.031)\n",
      ">k=4 0.561 (0.033)\n",
      ">k=5 0.556 (0.036)\n",
      ">k=6 0.551 (0.036)\n",
      ">k=7 0.549 (0.037)\n"
     ]
    }
   ],
   "source": [
    "# load the dataset\n",
    "def dataset(full_path):\n",
    "    # load the dataset as a numpy array\n",
    "    dataframe = read_csv(full_path, header=None, skiprows=1)\n",
    "    # split into inputs and outputs\n",
    "    last_ix = len(dataframe.columns) - 1\n",
    "    X, y = dataframe.drop(last_ix, axis=1), dataframe[last_ix]\n",
    "    # select categorical and numerical features\n",
    "    cat_ix = X.select_dtypes(include=['object', 'bool']).columns\n",
    "    num_ix = X.select_dtypes(include=['int64', 'float64']).columns\n",
    "    return X.values, y, cat_ix, num_ix\n",
    "\n",
    "# evaluate a model\n",
    "def evaluate(X, y, model):\n",
    "    # define evaluation procedure\n",
    "    cv = KFold(n_splits=10, random_state=7, shuffle=True)\n",
    "    # evaluate model\n",
    "    scores = cross_val_score(model, X, y, scoring='r2', cv=cv, n_jobs=-1)\n",
    "    return scores\n",
    "\n",
    "# define the location of the dataset\n",
    "full_path = 'final.csv'\n",
    "# load the dataset\n",
    "X, y, cat_ix, num_ix = dataset(full_path)\n",
    "# define models\n",
    "results = list()\n",
    "\n",
    "vals = [1, 2, 3, 4, 5, 6, 7]\n",
    "\n",
    "# evaluate each model\n",
    "for i in vals:\n",
    "    # wrap the model in a pipeline\n",
    "    model = KNeighborsRegressor(n_neighbors = i)\n",
    "    ct = ColumnTransformer([('c',OneHotEncoder(drop = 'first'),cat_ix), ('n',StandardScaler(),num_ix)])\n",
    "    pca = PCA(n_components = 0.95)    \n",
    "    pipeline = Pipeline(steps=[('t', ct),('p', PowerTransformer()),('h', pca),('m',model)])\n",
    "    # evaluate the model and store results\n",
    "    scores = evaluate(X, y, pipeline)\n",
    "    results.append(scores)\n",
    "    # summarize and store\n",
    "    print('>k=%s %.3f (%.3f)' % (i, mean(scores), std(scores)))"
   ]
  },
  {
   "cell_type": "markdown",
   "metadata": {},
   "source": [
    "### Ensemble Algorithms"
   ]
  },
  {
   "cell_type": "code",
   "execution_count": 39,
   "metadata": {},
   "outputs": [
    {
     "name": "stdout",
     "output_type": "stream",
     "text": [
      ">AB 0.002 (0.052)\n",
      ">GBM 0.580 (0.027)\n",
      ">RF 0.732 (0.025)\n",
      ">ET 0.774 (0.025)\n"
     ]
    },
    {
     "data": {
      "image/png": "[encoded data removed]",
      "text/plain": [
       "<Figure size 720x360 with 1 Axes>"
      ]
     },
     "metadata": {
      "needs_background": "light"
     },
     "output_type": "display_data"
    }
   ],
   "source": [
    "# load the dataset\n",
    "def dataset(full_path):\n",
    "    # load the dataset as a numpy array\n",
    "    dataframe = read_csv(full_path, header=None, skiprows=1)\n",
    "    # split into inputs and outputs\n",
    "    last_ix = len(dataframe.columns) - 1\n",
    "    X, y = dataframe.drop(last_ix, axis=1), dataframe[last_ix]\n",
    "    # select categorical and numerical features\n",
    "    cat_ix = X.select_dtypes(include=['object', 'bool']).columns\n",
    "    num_ix = X.select_dtypes(include=['int64', 'float64']).columns\n",
    "    return X.values, y, cat_ix, num_ix\n",
    "\n",
    "# evaluate a model\n",
    "def evaluate(X, y, model):\n",
    "    # define evaluation procedure\n",
    "    cv = KFold(n_splits=10, random_state=7, shuffle=True)\n",
    "    # evaluate model\n",
    "    scores = cross_val_score(model, X, y, scoring='r2', cv=cv, n_jobs=-1)\n",
    "    return scores\n",
    "\n",
    "# define models to test\n",
    "def get_models():\n",
    "    models, names = list(), list()\n",
    "    # AB\n",
    "    models.append(AdaBoostRegressor())\n",
    "    names.append('AB')\n",
    "    # GBM\n",
    "    models.append(GradientBoostingRegressor())\n",
    "    names.append('GBM')\n",
    "    # RF\n",
    "    models.append(RandomForestRegressor())\n",
    "    names.append('RF')\n",
    "    # ET\n",
    "    models.append(ExtraTreesRegressor())\n",
    "    names.append('ET')\n",
    "    return models, names\n",
    "\n",
    "# define the location of the dataset\n",
    "full_path = 'final.csv'\n",
    "# load the dataset\n",
    "X, y, cat_ix, num_ix = dataset(full_path)\n",
    "# define models\n",
    "models, names = get_models()\n",
    "results = list()\n",
    "\n",
    "# evaluate each model\n",
    "for i in range(len(models)):\n",
    "    # wrap the model in a pipeline\n",
    "    ct = ColumnTransformer([('c',OneHotEncoder(drop = 'first'),cat_ix), ('n',StandardScaler(),num_ix)])\n",
    "    pca = PCA(n_components = 0.95)    \n",
    "    pipeline = Pipeline(steps=[('t', ct),('p', PowerTransformer()),('h', pca),('m',models[i])])\n",
    "    # evaluate the model and store results\n",
    "    scores = evaluate(X, y, pipeline)\n",
    "    results.append(scores)\n",
    "    # summarize and store\n",
    "    print('>%s %.3f (%.3f)' % (names[i], mean(scores), std(scores)))\n",
    "\n",
    "# plot the results\n",
    "\n",
    "pyplot.figure(figsize = (10,5))\n",
    "pyplot.boxplot(results, labels=names, showmeans=True)\n",
    "pyplot.grid()\n",
    "pyplot.show()"
   ]
  },
  {
   "cell_type": "markdown",
   "metadata": {},
   "source": [
    "### Tuning Extra Trees"
   ]
  },
  {
   "cell_type": "code",
   "execution_count": 40,
   "metadata": {},
   "outputs": [
    {
     "name": "stdout",
     "output_type": "stream",
     "text": [
      ">n=10 0.742 (0.026)\n",
      ">n=100 0.773 (0.025)\n",
      ">n=1000 0.778 (0.026)\n"
     ]
    }
   ],
   "source": [
    "# load the dataset\n",
    "def dataset(full_path):\n",
    "    # load the dataset as a numpy array\n",
    "    dataframe = read_csv(full_path, header=None, skiprows=1)\n",
    "    # split into inputs and outputs\n",
    "    last_ix = len(dataframe.columns) - 1\n",
    "    X, y = dataframe.drop(last_ix, axis=1), dataframe[last_ix]\n",
    "    # select categorical and numerical features\n",
    "    cat_ix = X.select_dtypes(include=['object', 'bool']).columns\n",
    "    num_ix = X.select_dtypes(include=['int64', 'float64']).columns\n",
    "    return X.values, y, cat_ix, num_ix\n",
    "\n",
    "# evaluate a model\n",
    "def evaluate(X, y, model):\n",
    "    # define evaluation procedure\n",
    "    cv = KFold(n_splits=10, random_state=7, shuffle=True)\n",
    "    # evaluate model\n",
    "    scores = cross_val_score(model, X, y, scoring='r2', cv=cv, n_jobs=-1)\n",
    "    return scores\n",
    "\n",
    "# define the location of the dataset\n",
    "full_path = 'final.csv'\n",
    "# load the dataset\n",
    "X, y, cat_ix, num_ix = dataset(full_path)\n",
    "# define models\n",
    "results = list()\n",
    "\n",
    "n_estimators = [10, 100, 1000]\n",
    "\n",
    "# evaluate each model\n",
    "for i in n_estimators:\n",
    "    # wrap the model in a pipeline\n",
    "    model = ExtraTreesRegressor(n_estimators = i)\n",
    "    ct = ColumnTransformer([('c',OneHotEncoder(drop = 'first'),cat_ix), ('n',StandardScaler(),num_ix)])\n",
    "    pca = PCA(n_components = 0.95)    \n",
    "    pipeline = Pipeline(steps=[('t', ct),('p', PowerTransformer()),('h', pca),('m',model)])\n",
    "    # evaluate the model and store results\n",
    "    scores = evaluate(X, y, pipeline)\n",
    "    results.append(scores)\n",
    "    # summarize and store\n",
    "    print('>n=%s %.3f (%.3f)' % (i, mean(scores), std(scores)))"
   ]
  },
  {
   "cell_type": "markdown",
   "metadata": {},
   "source": [
    "## Scenario 2: MinMaxScaler, Power Transform, PCA"
   ]
  },
  {
   "cell_type": "markdown",
   "metadata": {},
   "source": [
    "### Standard Algorithms"
   ]
  },
  {
   "cell_type": "code",
   "execution_count": 41,
   "metadata": {},
   "outputs": [
    {
     "name": "stdout",
     "output_type": "stream",
     "text": [
      ">LR 0.257 (0.026)\n",
      ">CART 0.472 (0.061)\n",
      ">Lasso 0.257 (0.026)\n",
      ">EN 0.227 (0.015)\n",
      ">KNN 0.572 (0.041)\n",
      ">SVR -0.009 (0.016)\n"
     ]
    },
    {
     "data": {
      "image/png": "[encoded data removed]",
      "text/plain": [
       "<Figure size 720x360 with 1 Axes>"
      ]
     },
     "metadata": {
      "needs_background": "light"
     },
     "output_type": "display_data"
    }
   ],
   "source": [
    "# load the dataset\n",
    "def dataset(full_path):\n",
    "    # load the dataset as a numpy array\n",
    "    dataframe = read_csv(full_path, header=None, skiprows=1)\n",
    "    # split into inputs and outputs\n",
    "    last_ix = len(dataframe.columns) - 1\n",
    "    X, y = dataframe.drop(last_ix, axis=1), dataframe[last_ix]\n",
    "    # select categorical and numerical features\n",
    "    cat_ix = X.select_dtypes(include=['object', 'bool']).columns\n",
    "    num_ix = X.select_dtypes(include=['int64', 'float64']).columns\n",
    "    return X.values, y, cat_ix, num_ix\n",
    "\n",
    "# evaluate a model\n",
    "def evaluate(X, y, model):\n",
    "    # define evaluation procedure\n",
    "    cv = KFold(n_splits=10, random_state=7, shuffle=True)\n",
    "    # evaluate model\n",
    "    scores = cross_val_score(model, X, y, scoring='r2', cv=cv, n_jobs=-1)\n",
    "    return scores\n",
    "\n",
    "# define models to test\n",
    "def get_models():\n",
    "    models, names = list(), list()\n",
    "    # LR\n",
    "    models.append(LinearRegression())\n",
    "    names.append('LR')\n",
    "    # CART\n",
    "    models.append(DecisionTreeRegressor())\n",
    "    names.append('CART')\n",
    "    # Lasso\n",
    "    models.append(Lasso())\n",
    "    names.append('Lasso')\n",
    "    # EN\n",
    "    models.append(ElasticNet())\n",
    "    names.append('EN')\n",
    "    # KNN\n",
    "    models.append(KNeighborsRegressor())\n",
    "    names.append('KNN')\n",
    "    # SVR\n",
    "    models.append(SVR())\n",
    "    names.append('SVR')\n",
    "    return models, names\n",
    "\n",
    "# define the location of the dataset\n",
    "full_path = 'final.csv'\n",
    "# load the dataset\n",
    "X, y, cat_ix, num_ix = dataset(full_path)\n",
    "# define models\n",
    "models, names = get_models()\n",
    "results = list()\n",
    "\n",
    "# evaluate each model\n",
    "for i in range(len(models)):\n",
    "    # wrap the model in a pipeline\n",
    "    ct = ColumnTransformer([('c',OneHotEncoder(drop = 'first'),cat_ix), ('n',MinMaxScaler(),num_ix)])\n",
    "    pca = PCA(n_components = 0.95)    \n",
    "    pipeline = Pipeline(steps=[('t', ct),('p', PowerTransformer()),('h', pca),('m',models[i])])\n",
    "    # evaluate the model and store results\n",
    "    scores = evaluate(X, y, pipeline)\n",
    "    results.append(scores)\n",
    "    # summarize and store\n",
    "    print('>%s %.3f (%.3f)' % (names[i], mean(scores), std(scores)))\n",
    "\n",
    "# plot the results\n",
    "\n",
    "pyplot.figure(figsize = (10,5))\n",
    "pyplot.boxplot(results, labels=names, showmeans=True)\n",
    "pyplot.grid()\n",
    "pyplot.show()"
   ]
  },
  {
   "cell_type": "markdown",
   "metadata": {},
   "source": [
    "### Tuning KNN"
   ]
  },
  {
   "cell_type": "code",
   "execution_count": 42,
   "metadata": {},
   "outputs": [
    {
     "name": "stdout",
     "output_type": "stream",
     "text": [
      ">k=1 0.499 (0.043)\n",
      ">k=2 0.566 (0.033)\n",
      ">k=3 0.573 (0.037)\n",
      ">k=4 0.573 (0.037)\n",
      ">k=5 0.572 (0.041)\n",
      ">k=6 0.564 (0.040)\n",
      ">k=7 0.561 (0.036)\n"
     ]
    }
   ],
   "source": [
    "# load the dataset\n",
    "def dataset(full_path):\n",
    "    # load the dataset as a numpy array\n",
    "    dataframe = read_csv(full_path, header=None, skiprows=1)\n",
    "    # split into inputs and outputs\n",
    "    last_ix = len(dataframe.columns) - 1\n",
    "    X, y = dataframe.drop(last_ix, axis=1), dataframe[last_ix]\n",
    "    # select categorical and numerical features\n",
    "    cat_ix = X.select_dtypes(include=['object', 'bool']).columns\n",
    "    num_ix = X.select_dtypes(include=['int64', 'float64']).columns\n",
    "    return X.values, y, cat_ix, num_ix\n",
    "\n",
    "# evaluate a model\n",
    "def evaluate(X, y, model):\n",
    "    # define evaluation procedure\n",
    "    cv = KFold(n_splits=10, random_state=7, shuffle=True)\n",
    "    # evaluate model\n",
    "    scores = cross_val_score(model, X, y, scoring='r2', cv=cv, n_jobs=-1)\n",
    "    return scores\n",
    "\n",
    "# define the location of the dataset\n",
    "full_path = 'final.csv'\n",
    "# load the dataset\n",
    "X, y, cat_ix, num_ix = dataset(full_path)\n",
    "# define models\n",
    "results = list()\n",
    "\n",
    "vals = [1, 2, 3, 4, 5, 6, 7]\n",
    "\n",
    "# evaluate each model\n",
    "for i in vals:\n",
    "    # wrap the model in a pipeline\n",
    "    model = KNeighborsRegressor(n_neighbors = i)\n",
    "    ct = ColumnTransformer([('c',OneHotEncoder(drop = 'first'),cat_ix), ('n',MinMaxScaler(),num_ix)])\n",
    "    pca = PCA(n_components = 0.95)    \n",
    "    pipeline = Pipeline(steps=[('t', ct),('p', PowerTransformer()),('h', pca),('m',model)])\n",
    "    # evaluate the model and store results\n",
    "    scores = evaluate(X, y, pipeline)\n",
    "    results.append(scores)\n",
    "    # summarize and store\n",
    "    print('>k=%s %.3f (%.3f)' % (i, mean(scores), std(scores)))"
   ]
  },
  {
   "cell_type": "markdown",
   "metadata": {},
   "source": [
    "### Ensemble Algorithms"
   ]
  },
  {
   "cell_type": "code",
   "execution_count": 43,
   "metadata": {},
   "outputs": [
    {
     "name": "stdout",
     "output_type": "stream",
     "text": [
      ">AB 0.024 (0.043)\n",
      ">GBM 0.575 (0.027)\n",
      ">RF 0.751 (0.025)\n",
      ">ET 0.789 (0.025)\n"
     ]
    },
    {
     "data": {
      "image/png": "[encoded data removed]",
      "text/plain": [
       "<Figure size 720x360 with 1 Axes>"
      ]
     },
     "metadata": {
      "needs_background": "light"
     },
     "output_type": "display_data"
    }
   ],
   "source": [
    "# load the dataset\n",
    "def dataset(full_path):\n",
    "    # load the dataset as a numpy array\n",
    "    dataframe = read_csv(full_path, header=None, skiprows=1)\n",
    "    # split into inputs and outputs\n",
    "    last_ix = len(dataframe.columns) - 1\n",
    "    X, y = dataframe.drop(last_ix, axis=1), dataframe[last_ix]\n",
    "    # select categorical and numerical features\n",
    "    cat_ix = X.select_dtypes(include=['object', 'bool']).columns\n",
    "    num_ix = X.select_dtypes(include=['int64', 'float64']).columns\n",
    "    return X.values, y, cat_ix, num_ix\n",
    "\n",
    "# evaluate a model\n",
    "def evaluate(X, y, model):\n",
    "    # define evaluation procedure\n",
    "    cv = KFold(n_splits=10, random_state=7, shuffle=True)\n",
    "    # evaluate model\n",
    "    scores = cross_val_score(model, X, y, scoring='r2', cv=cv, n_jobs=-1)\n",
    "    return scores\n",
    "\n",
    "# define models to test\n",
    "def get_models():\n",
    "    models, names = list(), list()\n",
    "    # AB\n",
    "    models.append(AdaBoostRegressor())\n",
    "    names.append('AB')\n",
    "    # GBM\n",
    "    models.append(GradientBoostingRegressor())\n",
    "    names.append('GBM')\n",
    "    # RF\n",
    "    models.append(RandomForestRegressor())\n",
    "    names.append('RF')\n",
    "    # ET\n",
    "    models.append(ExtraTreesRegressor())\n",
    "    names.append('ET')\n",
    "    return models, names\n",
    "\n",
    "# define the location of the dataset\n",
    "full_path = 'final.csv'\n",
    "# load the dataset\n",
    "X, y, cat_ix, num_ix = dataset(full_path)\n",
    "# define models\n",
    "models, names = get_models()\n",
    "results = list()\n",
    "\n",
    "# evaluate each model\n",
    "for i in range(len(models)):\n",
    "    # wrap the model in a pipeline\n",
    "    ct = ColumnTransformer([('c',OneHotEncoder(drop = 'first'),cat_ix), ('n',MinMaxScaler(),num_ix)])\n",
    "    pca = PCA(n_components = 0.95)    \n",
    "    pipeline = Pipeline(steps=[('t', ct),('p', PowerTransformer()),('h', pca),('m',models[i])])\n",
    "    # evaluate the model and store results\n",
    "    scores = evaluate(X, y, pipeline)\n",
    "    results.append(scores)\n",
    "    # summarize and store\n",
    "    print('>%s %.3f (%.3f)' % (names[i], mean(scores), std(scores)))\n",
    "\n",
    "# plot the results\n",
    "\n",
    "pyplot.figure(figsize = (10,5))\n",
    "pyplot.boxplot(results, labels=names, showmeans=True)\n",
    "pyplot.grid()\n",
    "pyplot.show()"
   ]
  },
  {
   "cell_type": "markdown",
   "metadata": {},
   "source": [
    "### Tuning Extra Trees"
   ]
  },
  {
   "cell_type": "code",
   "execution_count": 44,
   "metadata": {},
   "outputs": [
    {
     "name": "stdout",
     "output_type": "stream",
     "text": [
      ">n=10 0.757 (0.023)\n",
      ">n=100 0.790 (0.023)\n",
      ">n=1000 0.791 (0.024)\n"
     ]
    }
   ],
   "source": [
    "# load the dataset\n",
    "def dataset(full_path):\n",
    "    # load the dataset as a numpy array\n",
    "    dataframe = read_csv(full_path, header=None, skiprows=1)\n",
    "    # split into inputs and outputs\n",
    "    last_ix = len(dataframe.columns) - 1\n",
    "    X, y = dataframe.drop(last_ix, axis=1), dataframe[last_ix]\n",
    "    # select categorical and numerical features\n",
    "    cat_ix = X.select_dtypes(include=['object', 'bool']).columns\n",
    "    num_ix = X.select_dtypes(include=['int64', 'float64']).columns\n",
    "    return X.values, y, cat_ix, num_ix\n",
    "\n",
    "# evaluate a model\n",
    "def evaluate(X, y, model):\n",
    "    # define evaluation procedure\n",
    "    cv = KFold(n_splits=10, random_state=7, shuffle=True)\n",
    "    # evaluate model\n",
    "    scores = cross_val_score(model, X, y, scoring='r2', cv=cv, n_jobs=-1)\n",
    "    return scores\n",
    "\n",
    "# define the location of the dataset\n",
    "full_path = 'final.csv'\n",
    "# load the dataset\n",
    "X, y, cat_ix, num_ix = dataset(full_path)\n",
    "# define models\n",
    "results = list()\n",
    "\n",
    "n_estimators = [10, 100, 1000]\n",
    "\n",
    "# evaluate each model\n",
    "for i in n_estimators:\n",
    "    # wrap the model in a pipeline\n",
    "    model = ExtraTreesRegressor(n_estimators = i)\n",
    "    ct = ColumnTransformer([('c',OneHotEncoder(drop = 'first'),cat_ix), ('n',MinMaxScaler(),num_ix)])\n",
    "    pca = PCA(n_components = 0.95)    \n",
    "    pipeline = Pipeline(steps=[('t', ct),('p', PowerTransformer()),('h', pca),('m',model)])\n",
    "    # evaluate the model and store results\n",
    "    scores = evaluate(X, y, pipeline)\n",
    "    results.append(scores)\n",
    "    # summarize and store\n",
    "    print('>n=%s %.3f (%.3f)' % (i, mean(scores), std(scores)))"
   ]
  },
  {
   "cell_type": "markdown",
   "metadata": {},
   "source": [
    "The best model in this case is the Extra Trees with 1000 estimators with the above pipeline processing. The R2 Score shows that the model is a good fit across all the 10 folds. Of course, it is much simpler to use a train-test split to do the same task and without the above transforms. However, this is just one method of performing such a task. There are many more combinations of scalers and data preparation methods that can be used to tackle given issues such as imputation of null values. Here the null values were simply dropped. Whereas, they could be imputed with several strategies. Better feature engineering would lead to higher scores and possibly the use of less complex models."
   ]
  },
  {
   "cell_type": "code",
   "execution_count": null,
   "metadata": {},
   "outputs": [],
   "source": []
  }
 ],
 "metadata": {
  "kernelspec": {
   "display_name": "Python 3",
   "language": "python",
   "name": "python3"
  },
  "language_info": {
   "codemirror_mode": {
    "name": "ipython",
    "version": 3
   },
   "file_extension": ".py",
   "mimetype": "text/x-python",
   "name": "python",
   "nbconvert_exporter": "python",
   "pygments_lexer": "ipython3",
   "version": "3.7.6"
  }
 },
 "nbformat": 4,
 "nbformat_minor": 4
}
