{
 "cells": [
  {
   "cell_type": "code",
   "execution_count": 1,
   "metadata": {},
   "outputs": [],
   "source": [
    "import wikipedia\n",
    "import os"
   ]
  },
  {
   "cell_type": "markdown",
   "metadata": {},
   "source": [
    "# Test"
   ]
  },
  {
   "cell_type": "code",
   "execution_count": 2,
   "metadata": {},
   "outputs": [],
   "source": [
    "def wikipage2file(wikipedia_pagetitle, output_filepath):\n",
    "    '''\n",
    "    The function takes as input two arguments: \n",
    "    a string for the title of a Wikipedia page and a string\n",
    "    representing an output folder where the output will be saved.\n",
    "    The function searches all Wikipedia pages that can be retrieved \n",
    "    with the wikipedia_pagetitle string, retrieves the first candidate \n",
    "    Wikipedia page and obtains two strings: the title and \n",
    "    the content of that page, writes a text file named wikipage.txt, \n",
    "    where wikipage should be replaced by the Wikipedia page's title \n",
    "    (but remove spaces in the filename).\n",
    "    '''\n",
    "    # Changes directory to the output file path in which the text file will be stored in\n",
    "    os.chdir(output_filepath)\n",
    "    \n",
    "    # Gets the title of the wikipedia page\n",
    "    title = wikipedia.page(wikipedia_pagetitle).title\n",
    "    \n",
    "    # Retrieves the contents of the page\n",
    "    content = wikipedia.page(wikipedia_pagetitle).content\n",
    "    \n",
    "    # Merging the title with the contents as a list\n",
    "    new_list = [title + \"\\n\" + \"\\n\" + \"\\n\" + content]\n",
    "    \n",
    "    # Saving and writing the list as a text file to be stored in the output filepath\n",
    "    new_text = (' '.join(map(str, new_list)))\n",
    "    saveFile = open(wikipedia_pagetitle.replace(' ', '') + \".txt\",'w')\n",
    "    saveFile.write(new_text)\n",
    "    saveFile.close()\n",
    "            \n",
    "wikipage2file('Football', 'Desktop/Wikibank')"
   ]
  },
  {
   "cell_type": "code",
   "execution_count": null,
   "metadata": {},
   "outputs": [],
   "source": []
  },
  {
   "cell_type": "code",
   "execution_count": 3,
   "metadata": {},
   "outputs": [
    {
     "name": "stdout",
     "output_type": "stream",
     "text": [
      "Similarity: \n"
     ]
    },
    {
     "data": {
      "text/plain": [
       "'0.17362525458248473'"
      ]
     },
     "execution_count": 3,
     "metadata": {},
     "output_type": "execute_result"
    }
   ],
   "source": [
    "def similar(x,y):\n",
    "    '''\n",
    "    The function takes in two Wikipedia pages x and y, it calculates \n",
    "    how similar they are based on the certain operations. First it computes \n",
    "    the set containing every word that occurs in x at least once and the \n",
    "    same for y. Then it obtains the set of the words that are contained both \n",
    "    in x and in y. Next, obtains the set of all the words contained in x or y \n",
    "    (including words contained in both x and y). Returns the result of dividing \n",
    "    the length of the set of common words by the length of the total set. The function \n",
    "    should always return a value between 0 and 1 (with 0 being no similarity).\n",
    "    '''\n",
    "    \n",
    "    result = ''\n",
    "    \n",
    "    # Lowercase all words, splitting and finding the set of x \n",
    "    lower_1 = x.lower()\n",
    "    split_1 = lower_1.split()\n",
    "    x_set = set(split_1) \n",
    "    \n",
    "    # Lowercase all words, splitting and finding the set of y \n",
    "    lower_2 = y.lower()\n",
    "    split_2 = lower_2.split()\n",
    "    y_set = set(split_2) \n",
    "    \n",
    "    # Obtain the set of all the words contained in x or y (including words contained in both x and y).\n",
    "    total_split = [*x_set, *y_set]\n",
    "    set_total_split = set(total_split)\n",
    "    \n",
    "    # Obtain the set of the words that are contained both in x and in y\n",
    "    common_words=[]\n",
    "    for i in x_set:\n",
    "        if i in y_set:\n",
    "            common_words.append(i)\n",
    "    \n",
    "    # Calculating the result \n",
    "    value = (len(common_words) / len(set_total_split))\n",
    "    result = result + str(value)\n",
    "    \n",
    "    print('Similarity: ')\n",
    "    \n",
    "    return result\n",
    "\n",
    "x = wikipedia.page('Nokia').content\n",
    "y = wikipedia.page('Samsung').content\n",
    "\n",
    "similar(x, y)"
   ]
  },
  {
   "cell_type": "code",
   "execution_count": null,
   "metadata": {},
   "outputs": [],
   "source": []
  }
 ],
 "metadata": {
  "kernelspec": {
   "display_name": "Python 3",
   "language": "python",
   "name": "python3"
  },
  "language_info": {
   "codemirror_mode": {
    "name": "ipython",
    "version": 3
   },
   "file_extension": ".py",
   "mimetype": "text/x-python",
   "name": "python",
   "nbconvert_exporter": "python",
   "pygments_lexer": "ipython3",
   "version": "3.7.6"
  }
 },
 "nbformat": 4,
 "nbformat_minor": 2
}
